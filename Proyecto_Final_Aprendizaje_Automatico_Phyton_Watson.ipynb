{
  "cells": [
    {
      "cell_type": "markdown",
      "metadata": {
        "button": false,
        "new_sheet": false,
        "run_control": {
          "read_only": false
        },
        "id": "MJfLrLUnBdkC"
      },
      "source": [
        "<a href=\"https://www.bigdatauniversity.com/?utm_medium=Exinfluencer&utm_source=Exinfluencer&utm_content=000026UJ&utm_term=10006555&utm_id=NA-SkillsNetwork-Channel-SkillsNetworkCoursesIBMDeveloperSkillsNetworkML0101ESedX20816812-2022-01-01\"><img src=\"https://ibm.box.com/shared/static/cw2c7r3o20w9zn8gkecaeyjhgw3xdgbj.png\" width=\"400\" align=\"center\"></a>\n",
        "\n",
        "<h1 align=\"center\"><font size=\"5\">Clasificación con Python</font></h1>\n"
      ]
    },
    {
      "cell_type": "markdown",
      "metadata": {
        "button": false,
        "new_sheet": false,
        "run_control": {
          "read_only": false
        },
        "id": "YQ9l6Pq1BdkF"
      },
      "source": [
        "En este cuaderno trataremos de practicar todos los algoritmos de clasificación aprendidos durante el curso.\n",
        "\n",
        "Cargaremos un conjunto de datos mediante la librería Pandas, aplicaremos los siguientes algoritmos y encontraremos el mejor para este conjunto en específico con métodos precisos de evaluación.\n",
        "\n",
        "Cargemos primero las librerías necesarias:\n"
      ]
    },
    {
      "cell_type": "code",
      "execution_count": 1,
      "metadata": {
        "button": false,
        "new_sheet": false,
        "run_control": {
          "read_only": false
        },
        "id": "SQj7pgGEBdkI"
      },
      "outputs": [],
      "source": [
        "import itertools\n",
        "import numpy as np\n",
        "import matplotlib.pyplot as plt\n",
        "from matplotlib.ticker import NullFormatter\n",
        "import pandas as pd\n",
        "import pylab as pl\n",
        "import scipy.optimize as opt\n",
        "import numpy as np\n",
        "import matplotlib.ticker as ticker\n",
        "from sklearn import preprocessing\n",
        "%matplotlib inline\n",
        "\n"
      ]
    },
    {
      "cell_type": "markdown",
      "metadata": {
        "button": false,
        "new_sheet": false,
        "run_control": {
          "read_only": false
        },
        "id": "tsXy8o1VBdkK"
      },
      "source": [
        "### Acerca del conjunto de datos\n"
      ]
    },
    {
      "cell_type": "markdown",
      "metadata": {
        "button": false,
        "new_sheet": false,
        "run_control": {
          "read_only": false
        },
        "id": "WytSywwgBdkK"
      },
      "source": [
        "Este conjunto de datos es sobre prestamos pasados. El conjunto **Loan_train.csv** incluye detalles sobre 346 clientes cuyos prestamos estan pagados o pendientes de cobrar.\n",
        "\n",
        "| Campo          | Descripción                                                                           |\n",
        "| -------------- | ------------------------------------------------------------------------------------- |\n",
        "| Loan_status    | El prestamos puede estar pagado o pendiente                                           |\n",
        "| Principal      | Cantidad del prestamo principal                                                       |\n",
        "| Terms          | Términos del cobro del prestamo, que pueden ser semanales, quincenales o mensuales    |\n",
        "| Effective_date | La fecha cuando el prestamo fue creado                                                |\n",
        "| Due_date       | Debido a que se programa para pagarse una sola vez, solo hay una fecha de vencimiento |\n",
        "| Age            | Edad del solicitante                                                                  |\n",
        "| Education      | Escolaridad del solicitante                                                           |\n",
        "| Gender         | Genero del solicitante                                                                |\n"
      ]
    },
    {
      "cell_type": "markdown",
      "metadata": {
        "button": false,
        "new_sheet": false,
        "run_control": {
          "read_only": false
        },
        "id": "zTKgL2nfBdkL"
      },
      "source": [
        "Descargemos el conjunto de datos\n"
      ]
    },
    {
      "cell_type": "code",
      "execution_count": 2,
      "metadata": {
        "button": false,
        "new_sheet": false,
        "run_control": {
          "read_only": false
        },
        "colab": {
          "base_uri": "https://localhost:8080/"
        },
        "id": "57SjfwHcBdkL",
        "outputId": "6d74049b-00f0-411a-b409-087072801d36"
      },
      "outputs": [
        {
          "output_type": "stream",
          "name": "stdout",
          "text": [
            "--2023-05-21 22:40:51--  https://s3-api.us-geo.objectstorage.softlayer.net/cf-courses-data/CognitiveClass/ML0101ENv3/labs/loan_train.csv\n",
            "Resolving s3-api.us-geo.objectstorage.softlayer.net (s3-api.us-geo.objectstorage.softlayer.net)... 67.228.254.196\n",
            "Connecting to s3-api.us-geo.objectstorage.softlayer.net (s3-api.us-geo.objectstorage.softlayer.net)|67.228.254.196|:443... connected.\n",
            "HTTP request sent, awaiting response... 200 OK\n",
            "Length: 23101 (23K) [text/csv]\n",
            "Saving to: ‘loan_train.csv’\n",
            "\n",
            "loan_train.csv      100%[===================>]  22.56K  --.-KB/s    in 0.02s   \n",
            "\n",
            "2023-05-21 22:40:51 (1003 KB/s) - ‘loan_train.csv’ saved [23101/23101]\n",
            "\n"
          ]
        }
      ],
      "source": [
        "!wget -O loan_train.csv https://s3-api.us-geo.objectstorage.softlayer.net/cf-courses-data/CognitiveClass/ML0101ENv3/labs/loan_train.csv"
      ]
    },
    {
      "cell_type": "markdown",
      "metadata": {
        "button": false,
        "new_sheet": false,
        "run_control": {
          "read_only": false
        },
        "id": "cXsTC_AkBdkM"
      },
      "source": [
        "### Cargar datos desde el archivo CSV\n"
      ]
    },
    {
      "cell_type": "code",
      "execution_count": 3,
      "metadata": {
        "button": false,
        "new_sheet": false,
        "run_control": {
          "read_only": false
        },
        "colab": {
          "base_uri": "https://localhost:8080/",
          "height": 206
        },
        "id": "Bbie4CFzBdkN",
        "outputId": "3f987262-9573-4d0e-df01-4cc1b975a8c3"
      },
      "outputs": [
        {
          "output_type": "execute_result",
          "data": {
            "text/plain": [
              "   Unnamed: 0.1  Unnamed: 0 loan_status  Principal  terms effective_date  \\\n",
              "0             0           0     PAIDOFF       1000     30       9/8/2016   \n",
              "1             2           2     PAIDOFF       1000     30       9/8/2016   \n",
              "2             3           3     PAIDOFF       1000     15       9/8/2016   \n",
              "3             4           4     PAIDOFF       1000     30       9/9/2016   \n",
              "4             6           6     PAIDOFF       1000     30       9/9/2016   \n",
              "\n",
              "    due_date  age             education  Gender  \n",
              "0  10/7/2016   45  High School or Below    male  \n",
              "1  10/7/2016   33              Bechalor  female  \n",
              "2  9/22/2016   27               college    male  \n",
              "3  10/8/2016   28               college  female  \n",
              "4  10/8/2016   29               college    male  "
            ],
            "text/html": [
              "\n",
              "  <div id=\"df-0ae7931d-4ac9-47d7-852e-4fbd38f12464\">\n",
              "    <div class=\"colab-df-container\">\n",
              "      <div>\n",
              "<style scoped>\n",
              "    .dataframe tbody tr th:only-of-type {\n",
              "        vertical-align: middle;\n",
              "    }\n",
              "\n",
              "    .dataframe tbody tr th {\n",
              "        vertical-align: top;\n",
              "    }\n",
              "\n",
              "    .dataframe thead th {\n",
              "        text-align: right;\n",
              "    }\n",
              "</style>\n",
              "<table border=\"1\" class=\"dataframe\">\n",
              "  <thead>\n",
              "    <tr style=\"text-align: right;\">\n",
              "      <th></th>\n",
              "      <th>Unnamed: 0.1</th>\n",
              "      <th>Unnamed: 0</th>\n",
              "      <th>loan_status</th>\n",
              "      <th>Principal</th>\n",
              "      <th>terms</th>\n",
              "      <th>effective_date</th>\n",
              "      <th>due_date</th>\n",
              "      <th>age</th>\n",
              "      <th>education</th>\n",
              "      <th>Gender</th>\n",
              "    </tr>\n",
              "  </thead>\n",
              "  <tbody>\n",
              "    <tr>\n",
              "      <th>0</th>\n",
              "      <td>0</td>\n",
              "      <td>0</td>\n",
              "      <td>PAIDOFF</td>\n",
              "      <td>1000</td>\n",
              "      <td>30</td>\n",
              "      <td>9/8/2016</td>\n",
              "      <td>10/7/2016</td>\n",
              "      <td>45</td>\n",
              "      <td>High School or Below</td>\n",
              "      <td>male</td>\n",
              "    </tr>\n",
              "    <tr>\n",
              "      <th>1</th>\n",
              "      <td>2</td>\n",
              "      <td>2</td>\n",
              "      <td>PAIDOFF</td>\n",
              "      <td>1000</td>\n",
              "      <td>30</td>\n",
              "      <td>9/8/2016</td>\n",
              "      <td>10/7/2016</td>\n",
              "      <td>33</td>\n",
              "      <td>Bechalor</td>\n",
              "      <td>female</td>\n",
              "    </tr>\n",
              "    <tr>\n",
              "      <th>2</th>\n",
              "      <td>3</td>\n",
              "      <td>3</td>\n",
              "      <td>PAIDOFF</td>\n",
              "      <td>1000</td>\n",
              "      <td>15</td>\n",
              "      <td>9/8/2016</td>\n",
              "      <td>9/22/2016</td>\n",
              "      <td>27</td>\n",
              "      <td>college</td>\n",
              "      <td>male</td>\n",
              "    </tr>\n",
              "    <tr>\n",
              "      <th>3</th>\n",
              "      <td>4</td>\n",
              "      <td>4</td>\n",
              "      <td>PAIDOFF</td>\n",
              "      <td>1000</td>\n",
              "      <td>30</td>\n",
              "      <td>9/9/2016</td>\n",
              "      <td>10/8/2016</td>\n",
              "      <td>28</td>\n",
              "      <td>college</td>\n",
              "      <td>female</td>\n",
              "    </tr>\n",
              "    <tr>\n",
              "      <th>4</th>\n",
              "      <td>6</td>\n",
              "      <td>6</td>\n",
              "      <td>PAIDOFF</td>\n",
              "      <td>1000</td>\n",
              "      <td>30</td>\n",
              "      <td>9/9/2016</td>\n",
              "      <td>10/8/2016</td>\n",
              "      <td>29</td>\n",
              "      <td>college</td>\n",
              "      <td>male</td>\n",
              "    </tr>\n",
              "  </tbody>\n",
              "</table>\n",
              "</div>\n",
              "      <button class=\"colab-df-convert\" onclick=\"convertToInteractive('df-0ae7931d-4ac9-47d7-852e-4fbd38f12464')\"\n",
              "              title=\"Convert this dataframe to an interactive table.\"\n",
              "              style=\"display:none;\">\n",
              "        \n",
              "  <svg xmlns=\"http://www.w3.org/2000/svg\" height=\"24px\"viewBox=\"0 0 24 24\"\n",
              "       width=\"24px\">\n",
              "    <path d=\"M0 0h24v24H0V0z\" fill=\"none\"/>\n",
              "    <path d=\"M18.56 5.44l.94 2.06.94-2.06 2.06-.94-2.06-.94-.94-2.06-.94 2.06-2.06.94zm-11 1L8.5 8.5l.94-2.06 2.06-.94-2.06-.94L8.5 2.5l-.94 2.06-2.06.94zm10 10l.94 2.06.94-2.06 2.06-.94-2.06-.94-.94-2.06-.94 2.06-2.06.94z\"/><path d=\"M17.41 7.96l-1.37-1.37c-.4-.4-.92-.59-1.43-.59-.52 0-1.04.2-1.43.59L10.3 9.45l-7.72 7.72c-.78.78-.78 2.05 0 2.83L4 21.41c.39.39.9.59 1.41.59.51 0 1.02-.2 1.41-.59l7.78-7.78 2.81-2.81c.8-.78.8-2.07 0-2.86zM5.41 20L4 18.59l7.72-7.72 1.47 1.35L5.41 20z\"/>\n",
              "  </svg>\n",
              "      </button>\n",
              "      \n",
              "  <style>\n",
              "    .colab-df-container {\n",
              "      display:flex;\n",
              "      flex-wrap:wrap;\n",
              "      gap: 12px;\n",
              "    }\n",
              "\n",
              "    .colab-df-convert {\n",
              "      background-color: #E8F0FE;\n",
              "      border: none;\n",
              "      border-radius: 50%;\n",
              "      cursor: pointer;\n",
              "      display: none;\n",
              "      fill: #1967D2;\n",
              "      height: 32px;\n",
              "      padding: 0 0 0 0;\n",
              "      width: 32px;\n",
              "    }\n",
              "\n",
              "    .colab-df-convert:hover {\n",
              "      background-color: #E2EBFA;\n",
              "      box-shadow: 0px 1px 2px rgba(60, 64, 67, 0.3), 0px 1px 3px 1px rgba(60, 64, 67, 0.15);\n",
              "      fill: #174EA6;\n",
              "    }\n",
              "\n",
              "    [theme=dark] .colab-df-convert {\n",
              "      background-color: #3B4455;\n",
              "      fill: #D2E3FC;\n",
              "    }\n",
              "\n",
              "    [theme=dark] .colab-df-convert:hover {\n",
              "      background-color: #434B5C;\n",
              "      box-shadow: 0px 1px 3px 1px rgba(0, 0, 0, 0.15);\n",
              "      filter: drop-shadow(0px 1px 2px rgba(0, 0, 0, 0.3));\n",
              "      fill: #FFFFFF;\n",
              "    }\n",
              "  </style>\n",
              "\n",
              "      <script>\n",
              "        const buttonEl =\n",
              "          document.querySelector('#df-0ae7931d-4ac9-47d7-852e-4fbd38f12464 button.colab-df-convert');\n",
              "        buttonEl.style.display =\n",
              "          google.colab.kernel.accessAllowed ? 'block' : 'none';\n",
              "\n",
              "        async function convertToInteractive(key) {\n",
              "          const element = document.querySelector('#df-0ae7931d-4ac9-47d7-852e-4fbd38f12464');\n",
              "          const dataTable =\n",
              "            await google.colab.kernel.invokeFunction('convertToInteractive',\n",
              "                                                     [key], {});\n",
              "          if (!dataTable) return;\n",
              "\n",
              "          const docLinkHtml = 'Like what you see? Visit the ' +\n",
              "            '<a target=\"_blank\" href=https://colab.research.google.com/notebooks/data_table.ipynb>data table notebook</a>'\n",
              "            + ' to learn more about interactive tables.';\n",
              "          element.innerHTML = '';\n",
              "          dataTable['output_type'] = 'display_data';\n",
              "          await google.colab.output.renderOutput(dataTable, element);\n",
              "          const docLink = document.createElement('div');\n",
              "          docLink.innerHTML = docLinkHtml;\n",
              "          element.appendChild(docLink);\n",
              "        }\n",
              "      </script>\n",
              "    </div>\n",
              "  </div>\n",
              "  "
            ]
          },
          "metadata": {},
          "execution_count": 3
        }
      ],
      "source": [
        "df = pd.read_csv('loan_train.csv')\n",
        "df.head()"
      ]
    },
    {
      "cell_type": "code",
      "execution_count": 4,
      "metadata": {
        "colab": {
          "base_uri": "https://localhost:8080/"
        },
        "id": "W51mvUebBdkO",
        "outputId": "9004169a-a7af-4343-e8a8-efbe0b571930"
      },
      "outputs": [
        {
          "output_type": "execute_result",
          "data": {
            "text/plain": [
              "(346, 10)"
            ]
          },
          "metadata": {},
          "execution_count": 4
        }
      ],
      "source": [
        "df.shape"
      ]
    },
    {
      "cell_type": "markdown",
      "metadata": {
        "button": false,
        "new_sheet": false,
        "run_control": {
          "read_only": false
        },
        "id": "nQnqoSvZBdkP"
      },
      "source": [
        "### Convertir a un objeto de tipo fecha(date)/tiempo(time)\n"
      ]
    },
    {
      "cell_type": "code",
      "execution_count": 5,
      "metadata": {
        "button": false,
        "new_sheet": false,
        "run_control": {
          "read_only": false
        },
        "colab": {
          "base_uri": "https://localhost:8080/",
          "height": 206
        },
        "id": "zdafmO3MBdkP",
        "outputId": "c476d379-d52f-47ee-8f3d-4e0882f9ab16"
      },
      "outputs": [
        {
          "output_type": "execute_result",
          "data": {
            "text/plain": [
              "   Unnamed: 0.1  Unnamed: 0 loan_status  Principal  terms effective_date  \\\n",
              "0             0           0     PAIDOFF       1000     30     2016-09-08   \n",
              "1             2           2     PAIDOFF       1000     30     2016-09-08   \n",
              "2             3           3     PAIDOFF       1000     15     2016-09-08   \n",
              "3             4           4     PAIDOFF       1000     30     2016-09-09   \n",
              "4             6           6     PAIDOFF       1000     30     2016-09-09   \n",
              "\n",
              "    due_date  age             education  Gender  \n",
              "0 2016-10-07   45  High School or Below    male  \n",
              "1 2016-10-07   33              Bechalor  female  \n",
              "2 2016-09-22   27               college    male  \n",
              "3 2016-10-08   28               college  female  \n",
              "4 2016-10-08   29               college    male  "
            ],
            "text/html": [
              "\n",
              "  <div id=\"df-48a90da1-d50d-4ac7-8dc0-f4c8bb55b7f2\">\n",
              "    <div class=\"colab-df-container\">\n",
              "      <div>\n",
              "<style scoped>\n",
              "    .dataframe tbody tr th:only-of-type {\n",
              "        vertical-align: middle;\n",
              "    }\n",
              "\n",
              "    .dataframe tbody tr th {\n",
              "        vertical-align: top;\n",
              "    }\n",
              "\n",
              "    .dataframe thead th {\n",
              "        text-align: right;\n",
              "    }\n",
              "</style>\n",
              "<table border=\"1\" class=\"dataframe\">\n",
              "  <thead>\n",
              "    <tr style=\"text-align: right;\">\n",
              "      <th></th>\n",
              "      <th>Unnamed: 0.1</th>\n",
              "      <th>Unnamed: 0</th>\n",
              "      <th>loan_status</th>\n",
              "      <th>Principal</th>\n",
              "      <th>terms</th>\n",
              "      <th>effective_date</th>\n",
              "      <th>due_date</th>\n",
              "      <th>age</th>\n",
              "      <th>education</th>\n",
              "      <th>Gender</th>\n",
              "    </tr>\n",
              "  </thead>\n",
              "  <tbody>\n",
              "    <tr>\n",
              "      <th>0</th>\n",
              "      <td>0</td>\n",
              "      <td>0</td>\n",
              "      <td>PAIDOFF</td>\n",
              "      <td>1000</td>\n",
              "      <td>30</td>\n",
              "      <td>2016-09-08</td>\n",
              "      <td>2016-10-07</td>\n",
              "      <td>45</td>\n",
              "      <td>High School or Below</td>\n",
              "      <td>male</td>\n",
              "    </tr>\n",
              "    <tr>\n",
              "      <th>1</th>\n",
              "      <td>2</td>\n",
              "      <td>2</td>\n",
              "      <td>PAIDOFF</td>\n",
              "      <td>1000</td>\n",
              "      <td>30</td>\n",
              "      <td>2016-09-08</td>\n",
              "      <td>2016-10-07</td>\n",
              "      <td>33</td>\n",
              "      <td>Bechalor</td>\n",
              "      <td>female</td>\n",
              "    </tr>\n",
              "    <tr>\n",
              "      <th>2</th>\n",
              "      <td>3</td>\n",
              "      <td>3</td>\n",
              "      <td>PAIDOFF</td>\n",
              "      <td>1000</td>\n",
              "      <td>15</td>\n",
              "      <td>2016-09-08</td>\n",
              "      <td>2016-09-22</td>\n",
              "      <td>27</td>\n",
              "      <td>college</td>\n",
              "      <td>male</td>\n",
              "    </tr>\n",
              "    <tr>\n",
              "      <th>3</th>\n",
              "      <td>4</td>\n",
              "      <td>4</td>\n",
              "      <td>PAIDOFF</td>\n",
              "      <td>1000</td>\n",
              "      <td>30</td>\n",
              "      <td>2016-09-09</td>\n",
              "      <td>2016-10-08</td>\n",
              "      <td>28</td>\n",
              "      <td>college</td>\n",
              "      <td>female</td>\n",
              "    </tr>\n",
              "    <tr>\n",
              "      <th>4</th>\n",
              "      <td>6</td>\n",
              "      <td>6</td>\n",
              "      <td>PAIDOFF</td>\n",
              "      <td>1000</td>\n",
              "      <td>30</td>\n",
              "      <td>2016-09-09</td>\n",
              "      <td>2016-10-08</td>\n",
              "      <td>29</td>\n",
              "      <td>college</td>\n",
              "      <td>male</td>\n",
              "    </tr>\n",
              "  </tbody>\n",
              "</table>\n",
              "</div>\n",
              "      <button class=\"colab-df-convert\" onclick=\"convertToInteractive('df-48a90da1-d50d-4ac7-8dc0-f4c8bb55b7f2')\"\n",
              "              title=\"Convert this dataframe to an interactive table.\"\n",
              "              style=\"display:none;\">\n",
              "        \n",
              "  <svg xmlns=\"http://www.w3.org/2000/svg\" height=\"24px\"viewBox=\"0 0 24 24\"\n",
              "       width=\"24px\">\n",
              "    <path d=\"M0 0h24v24H0V0z\" fill=\"none\"/>\n",
              "    <path d=\"M18.56 5.44l.94 2.06.94-2.06 2.06-.94-2.06-.94-.94-2.06-.94 2.06-2.06.94zm-11 1L8.5 8.5l.94-2.06 2.06-.94-2.06-.94L8.5 2.5l-.94 2.06-2.06.94zm10 10l.94 2.06.94-2.06 2.06-.94-2.06-.94-.94-2.06-.94 2.06-2.06.94z\"/><path d=\"M17.41 7.96l-1.37-1.37c-.4-.4-.92-.59-1.43-.59-.52 0-1.04.2-1.43.59L10.3 9.45l-7.72 7.72c-.78.78-.78 2.05 0 2.83L4 21.41c.39.39.9.59 1.41.59.51 0 1.02-.2 1.41-.59l7.78-7.78 2.81-2.81c.8-.78.8-2.07 0-2.86zM5.41 20L4 18.59l7.72-7.72 1.47 1.35L5.41 20z\"/>\n",
              "  </svg>\n",
              "      </button>\n",
              "      \n",
              "  <style>\n",
              "    .colab-df-container {\n",
              "      display:flex;\n",
              "      flex-wrap:wrap;\n",
              "      gap: 12px;\n",
              "    }\n",
              "\n",
              "    .colab-df-convert {\n",
              "      background-color: #E8F0FE;\n",
              "      border: none;\n",
              "      border-radius: 50%;\n",
              "      cursor: pointer;\n",
              "      display: none;\n",
              "      fill: #1967D2;\n",
              "      height: 32px;\n",
              "      padding: 0 0 0 0;\n",
              "      width: 32px;\n",
              "    }\n",
              "\n",
              "    .colab-df-convert:hover {\n",
              "      background-color: #E2EBFA;\n",
              "      box-shadow: 0px 1px 2px rgba(60, 64, 67, 0.3), 0px 1px 3px 1px rgba(60, 64, 67, 0.15);\n",
              "      fill: #174EA6;\n",
              "    }\n",
              "\n",
              "    [theme=dark] .colab-df-convert {\n",
              "      background-color: #3B4455;\n",
              "      fill: #D2E3FC;\n",
              "    }\n",
              "\n",
              "    [theme=dark] .colab-df-convert:hover {\n",
              "      background-color: #434B5C;\n",
              "      box-shadow: 0px 1px 3px 1px rgba(0, 0, 0, 0.15);\n",
              "      filter: drop-shadow(0px 1px 2px rgba(0, 0, 0, 0.3));\n",
              "      fill: #FFFFFF;\n",
              "    }\n",
              "  </style>\n",
              "\n",
              "      <script>\n",
              "        const buttonEl =\n",
              "          document.querySelector('#df-48a90da1-d50d-4ac7-8dc0-f4c8bb55b7f2 button.colab-df-convert');\n",
              "        buttonEl.style.display =\n",
              "          google.colab.kernel.accessAllowed ? 'block' : 'none';\n",
              "\n",
              "        async function convertToInteractive(key) {\n",
              "          const element = document.querySelector('#df-48a90da1-d50d-4ac7-8dc0-f4c8bb55b7f2');\n",
              "          const dataTable =\n",
              "            await google.colab.kernel.invokeFunction('convertToInteractive',\n",
              "                                                     [key], {});\n",
              "          if (!dataTable) return;\n",
              "\n",
              "          const docLinkHtml = 'Like what you see? Visit the ' +\n",
              "            '<a target=\"_blank\" href=https://colab.research.google.com/notebooks/data_table.ipynb>data table notebook</a>'\n",
              "            + ' to learn more about interactive tables.';\n",
              "          element.innerHTML = '';\n",
              "          dataTable['output_type'] = 'display_data';\n",
              "          await google.colab.output.renderOutput(dataTable, element);\n",
              "          const docLink = document.createElement('div');\n",
              "          docLink.innerHTML = docLinkHtml;\n",
              "          element.appendChild(docLink);\n",
              "        }\n",
              "      </script>\n",
              "    </div>\n",
              "  </div>\n",
              "  "
            ]
          },
          "metadata": {},
          "execution_count": 5
        }
      ],
      "source": [
        "df['due_date'] = pd.to_datetime(df['due_date'])\n",
        "df['effective_date'] = pd.to_datetime(df['effective_date'])\n",
        "df.head()"
      ]
    },
    {
      "cell_type": "markdown",
      "metadata": {
        "button": false,
        "new_sheet": false,
        "run_control": {
          "read_only": false
        },
        "id": "BxJo5uvkBdkP"
      },
      "source": [
        "# Visualización de los Datos y pre procesamiento\n"
      ]
    },
    {
      "cell_type": "markdown",
      "metadata": {
        "button": false,
        "new_sheet": false,
        "run_control": {
          "read_only": false
        },
        "id": "8PME9DpIBdkR"
      },
      "source": [
        "Veamos cuantas de cada clase existen en el conjunto de datos.\n"
      ]
    },
    {
      "cell_type": "code",
      "execution_count": 6,
      "metadata": {
        "button": false,
        "new_sheet": false,
        "run_control": {
          "read_only": false
        },
        "colab": {
          "base_uri": "https://localhost:8080/"
        },
        "id": "adZ7n7bwBdkR",
        "outputId": "a768bcc7-a274-41ef-d20b-120d5e48d427"
      },
      "outputs": [
        {
          "output_type": "execute_result",
          "data": {
            "text/plain": [
              "PAIDOFF       260\n",
              "COLLECTION     86\n",
              "Name: loan_status, dtype: int64"
            ]
          },
          "metadata": {},
          "execution_count": 6
        }
      ],
      "source": [
        "df['loan_status'].value_counts()"
      ]
    },
    {
      "cell_type": "markdown",
      "metadata": {
        "button": false,
        "new_sheet": false,
        "run_control": {
          "read_only": false
        },
        "id": "843_gTUPBdkR"
      },
      "source": [
        "260 personas han saldado el préstamo a tiempo, mientras 86 han sido llamados a pagar\n"
      ]
    },
    {
      "cell_type": "markdown",
      "metadata": {
        "id": "QpayDgslBdkS"
      },
      "source": [
        "Grafiquemos algunas columnas para entender mejor los datos:\n"
      ]
    },
    {
      "cell_type": "code",
      "execution_count": 7,
      "metadata": {
        "colab": {
          "base_uri": "https://localhost:8080/"
        },
        "id": "hbz0JfbLBdkS",
        "outputId": "9ec701ed-fe8a-4352-fcf5-5ec7a800931b"
      },
      "outputs": [
        {
          "output_type": "stream",
          "name": "stdout",
          "text": [
            "/bin/bash: conda: command not found\n"
          ]
        }
      ],
      "source": [
        "# observación: la instalación de seaborn puede tomar algunos minutos\n",
        "!conda install -c anaconda seaborn -y"
      ]
    },
    {
      "cell_type": "code",
      "execution_count": 8,
      "metadata": {
        "colab": {
          "base_uri": "https://localhost:8080/",
          "height": 307
        },
        "id": "kBFa8AHgBdkT",
        "outputId": "8f9ffb84-cc2a-4f9e-8ff5-fc7d3df8c890"
      },
      "outputs": [
        {
          "output_type": "display_data",
          "data": {
            "text/plain": [
              "<Figure size 600x300 with 2 Axes>"
            ],
            "image/png": "[encoded data removed]"
          },
          "metadata": {}
        }
      ],
      "source": [
        "import seaborn as sns\n",
        "\n",
        "bins = np.linspace(df.Principal.min(), df.Principal.max(), 10)\n",
        "g = sns.FacetGrid(df, col=\"Gender\", hue=\"loan_status\", palette=\"Set1\", col_wrap=2)\n",
        "g.map(plt.hist, 'Principal', bins=bins, ec=\"k\")\n",
        "\n",
        "g.axes[-1].legend()\n",
        "plt.show()"
      ]
    },
    {
      "cell_type": "code",
      "execution_count": 9,
      "metadata": {
        "button": false,
        "new_sheet": false,
        "run_control": {
          "read_only": false
        },
        "colab": {
          "base_uri": "https://localhost:8080/",
          "height": 307
        },
        "id": "wsRkfhk0BdkT",
        "outputId": "53170c2f-66fe-4c21-e65e-8be86dad2712"
      },
      "outputs": [
        {
          "output_type": "display_data",
          "data": {
            "text/plain": [
              "<Figure size 600x300 with 2 Axes>"
            ],
            "image/png": "[encoded data removed]"
          },
          "metadata": {}
        }
      ],
      "source": [
        "bins = np.linspace(df.age.min(), df.age.max(), 10)\n",
        "g = sns.FacetGrid(df, col=\"Gender\", hue=\"loan_status\", palette=\"Set1\", col_wrap=2)\n",
        "g.map(plt.hist, 'age', bins=bins, ec=\"k\")\n",
        "\n",
        "g.axes[-1].legend()\n",
        "plt.show()"
      ]
    },
    {
      "cell_type": "markdown",
      "metadata": {
        "button": false,
        "new_sheet": false,
        "run_control": {
          "read_only": false
        },
        "id": "nVLHvoE8BdkT"
      },
      "source": [
        "# Pre procesamiento: selección/extracción de características\n"
      ]
    },
    {
      "cell_type": "markdown",
      "metadata": {
        "button": false,
        "new_sheet": false,
        "run_control": {
          "read_only": false
        },
        "id": "56sXGGY6BdkT"
      },
      "source": [
        "### Veamos el día de la semana en que la gente obtuvo el préstamo\n"
      ]
    },
    {
      "cell_type": "code",
      "execution_count": 10,
      "metadata": {
        "button": false,
        "new_sheet": false,
        "run_control": {
          "read_only": false
        },
        "colab": {
          "base_uri": "https://localhost:8080/",
          "height": 307
        },
        "id": "KtMhI-CCBdkU",
        "outputId": "34e54160-4143-45c8-e950-9a720558daa6"
      },
      "outputs": [
        {
          "output_type": "display_data",
          "data": {
            "text/plain": [
              "<Figure size 600x300 with 2 Axes>"
            ],
            "image/png": "[encoded data removed]"
          },
          "metadata": {}
        }
      ],
      "source": [
        "df['dayofweek'] = df['effective_date'].dt.dayofweek\n",
        "bins = np.linspace(df.dayofweek.min(), df.dayofweek.max(), 10)\n",
        "g = sns.FacetGrid(df, col=\"Gender\", hue=\"loan_status\", palette=\"Set1\", col_wrap=2)\n",
        "g.map(plt.hist, 'dayofweek', bins=bins, ec=\"k\")\n",
        "g.axes[-1].legend()\n",
        "plt.show()\n"
      ]
    },
    {
      "cell_type": "markdown",
      "metadata": {
        "button": false,
        "new_sheet": false,
        "run_control": {
          "read_only": false
        },
        "id": "_0nApE7HBdkV"
      },
      "source": [
        "Observamos que la gente que obtuvo el préstamo al final de la semana no lo pagó. Utilicemos la binarización para establecer unos valores límite menores de 4\n"
      ]
    },
    {
      "cell_type": "code",
      "execution_count": 11,
      "metadata": {
        "button": false,
        "new_sheet": false,
        "run_control": {
          "read_only": false
        },
        "colab": {
          "base_uri": "https://localhost:8080/",
          "height": 206
        },
        "id": "Ph9LhjVwBdkV",
        "outputId": "94ca536b-181a-4f10-b0a2-a47d11257f68"
      },
      "outputs": [
        {
          "output_type": "execute_result",
          "data": {
            "text/plain": [
              "   Unnamed: 0.1  Unnamed: 0 loan_status  Principal  terms effective_date  \\\n",
              "0             0           0     PAIDOFF       1000     30     2016-09-08   \n",
              "1             2           2     PAIDOFF       1000     30     2016-09-08   \n",
              "2             3           3     PAIDOFF       1000     15     2016-09-08   \n",
              "3             4           4     PAIDOFF       1000     30     2016-09-09   \n",
              "4             6           6     PAIDOFF       1000     30     2016-09-09   \n",
              "\n",
              "    due_date  age             education  Gender  dayofweek  weekend  \n",
              "0 2016-10-07   45  High School or Below    male          3        0  \n",
              "1 2016-10-07   33              Bechalor  female          3        0  \n",
              "2 2016-09-22   27               college    male          3        0  \n",
              "3 2016-10-08   28               college  female          4        1  \n",
              "4 2016-10-08   29               college    male          4        1  "
            ],
            "text/html": [
              "\n",
              "  <div id=\"df-d4286366-b502-42b7-89ac-8bd00f41ab53\">\n",
              "    <div class=\"colab-df-container\">\n",
              "      <div>\n",
              "<style scoped>\n",
              "    .dataframe tbody tr th:only-of-type {\n",
              "        vertical-align: middle;\n",
              "    }\n",
              "\n",
              "    .dataframe tbody tr th {\n",
              "        vertical-align: top;\n",
              "    }\n",
              "\n",
              "    .dataframe thead th {\n",
              "        text-align: right;\n",
              "    }\n",
              "</style>\n",
              "<table border=\"1\" class=\"dataframe\">\n",
              "  <thead>\n",
              "    <tr style=\"text-align: right;\">\n",
              "      <th></th>\n",
              "      <th>Unnamed: 0.1</th>\n",
              "      <th>Unnamed: 0</th>\n",
              "      <th>loan_status</th>\n",
              "      <th>Principal</th>\n",
              "      <th>terms</th>\n",
              "      <th>effective_date</th>\n",
              "      <th>due_date</th>\n",
              "      <th>age</th>\n",
              "      <th>education</th>\n",
              "      <th>Gender</th>\n",
              "      <th>dayofweek</th>\n",
              "      <th>weekend</th>\n",
              "    </tr>\n",
              "  </thead>\n",
              "  <tbody>\n",
              "    <tr>\n",
              "      <th>0</th>\n",
              "      <td>0</td>\n",
              "      <td>0</td>\n",
              "      <td>PAIDOFF</td>\n",
              "      <td>1000</td>\n",
              "      <td>30</td>\n",
              "      <td>2016-09-08</td>\n",
              "      <td>2016-10-07</td>\n",
              "      <td>45</td>\n",
              "      <td>High School or Below</td>\n",
              "      <td>male</td>\n",
              "      <td>3</td>\n",
              "      <td>0</td>\n",
              "    </tr>\n",
              "    <tr>\n",
              "      <th>1</th>\n",
              "      <td>2</td>\n",
              "      <td>2</td>\n",
              "      <td>PAIDOFF</td>\n",
              "      <td>1000</td>\n",
              "      <td>30</td>\n",
              "      <td>2016-09-08</td>\n",
              "      <td>2016-10-07</td>\n",
              "      <td>33</td>\n",
              "      <td>Bechalor</td>\n",
              "      <td>female</td>\n",
              "      <td>3</td>\n",
              "      <td>0</td>\n",
              "    </tr>\n",
              "    <tr>\n",
              "      <th>2</th>\n",
              "      <td>3</td>\n",
              "      <td>3</td>\n",
              "      <td>PAIDOFF</td>\n",
              "      <td>1000</td>\n",
              "      <td>15</td>\n",
              "      <td>2016-09-08</td>\n",
              "      <td>2016-09-22</td>\n",
              "      <td>27</td>\n",
              "      <td>college</td>\n",
              "      <td>male</td>\n",
              "      <td>3</td>\n",
              "      <td>0</td>\n",
              "    </tr>\n",
              "    <tr>\n",
              "      <th>3</th>\n",
              "      <td>4</td>\n",
              "      <td>4</td>\n",
              "      <td>PAIDOFF</td>\n",
              "      <td>1000</td>\n",
              "      <td>30</td>\n",
              "      <td>2016-09-09</td>\n",
              "      <td>2016-10-08</td>\n",
              "      <td>28</td>\n",
              "      <td>college</td>\n",
              "      <td>female</td>\n",
              "      <td>4</td>\n",
              "      <td>1</td>\n",
              "    </tr>\n",
              "    <tr>\n",
              "      <th>4</th>\n",
              "      <td>6</td>\n",
              "      <td>6</td>\n",
              "      <td>PAIDOFF</td>\n",
              "      <td>1000</td>\n",
              "      <td>30</td>\n",
              "      <td>2016-09-09</td>\n",
              "      <td>2016-10-08</td>\n",
              "      <td>29</td>\n",
              "      <td>college</td>\n",
              "      <td>male</td>\n",
              "      <td>4</td>\n",
              "      <td>1</td>\n",
              "    </tr>\n",
              "  </tbody>\n",
              "</table>\n",
              "</div>\n",
              "      <button class=\"colab-df-convert\" onclick=\"convertToInteractive('df-d4286366-b502-42b7-89ac-8bd00f41ab53')\"\n",
              "              title=\"Convert this dataframe to an interactive table.\"\n",
              "              style=\"display:none;\">\n",
              "        \n",
              "  <svg xmlns=\"http://www.w3.org/2000/svg\" height=\"24px\"viewBox=\"0 0 24 24\"\n",
              "       width=\"24px\">\n",
              "    <path d=\"M0 0h24v24H0V0z\" fill=\"none\"/>\n",
              "    <path d=\"M18.56 5.44l.94 2.06.94-2.06 2.06-.94-2.06-.94-.94-2.06-.94 2.06-2.06.94zm-11 1L8.5 8.5l.94-2.06 2.06-.94-2.06-.94L8.5 2.5l-.94 2.06-2.06.94zm10 10l.94 2.06.94-2.06 2.06-.94-2.06-.94-.94-2.06-.94 2.06-2.06.94z\"/><path d=\"M17.41 7.96l-1.37-1.37c-.4-.4-.92-.59-1.43-.59-.52 0-1.04.2-1.43.59L10.3 9.45l-7.72 7.72c-.78.78-.78 2.05 0 2.83L4 21.41c.39.39.9.59 1.41.59.51 0 1.02-.2 1.41-.59l7.78-7.78 2.81-2.81c.8-.78.8-2.07 0-2.86zM5.41 20L4 18.59l7.72-7.72 1.47 1.35L5.41 20z\"/>\n",
              "  </svg>\n",
              "      </button>\n",
              "      \n",
              "  <style>\n",
              "    .colab-df-container {\n",
              "      display:flex;\n",
              "      flex-wrap:wrap;\n",
              "      gap: 12px;\n",
              "    }\n",
              "\n",
              "    .colab-df-convert {\n",
              "      background-color: #E8F0FE;\n",
              "      border: none;\n",
              "      border-radius: 50%;\n",
              "      cursor: pointer;\n",
              "      display: none;\n",
              "      fill: #1967D2;\n",
              "      height: 32px;\n",
              "      padding: 0 0 0 0;\n",
              "      width: 32px;\n",
              "    }\n",
              "\n",
              "    .colab-df-convert:hover {\n",
              "      background-color: #E2EBFA;\n",
              "      box-shadow: 0px 1px 2px rgba(60, 64, 67, 0.3), 0px 1px 3px 1px rgba(60, 64, 67, 0.15);\n",
              "      fill: #174EA6;\n",
              "    }\n",
              "\n",
              "    [theme=dark] .colab-df-convert {\n",
              "      background-color: #3B4455;\n",
              "      fill: #D2E3FC;\n",
              "    }\n",
              "\n",
              "    [theme=dark] .colab-df-convert:hover {\n",
              "      background-color: #434B5C;\n",
              "      box-shadow: 0px 1px 3px 1px rgba(0, 0, 0, 0.15);\n",
              "      filter: drop-shadow(0px 1px 2px rgba(0, 0, 0, 0.3));\n",
              "      fill: #FFFFFF;\n",
              "    }\n",
              "  </style>\n",
              "\n",
              "      <script>\n",
              "        const buttonEl =\n",
              "          document.querySelector('#df-d4286366-b502-42b7-89ac-8bd00f41ab53 button.colab-df-convert');\n",
              "        buttonEl.style.display =\n",
              "          google.colab.kernel.accessAllowed ? 'block' : 'none';\n",
              "\n",
              "        async function convertToInteractive(key) {\n",
              "          const element = document.querySelector('#df-d4286366-b502-42b7-89ac-8bd00f41ab53');\n",
              "          const dataTable =\n",
              "            await google.colab.kernel.invokeFunction('convertToInteractive',\n",
              "                                                     [key], {});\n",
              "          if (!dataTable) return;\n",
              "\n",
              "          const docLinkHtml = 'Like what you see? Visit the ' +\n",
              "            '<a target=\"_blank\" href=https://colab.research.google.com/notebooks/data_table.ipynb>data table notebook</a>'\n",
              "            + ' to learn more about interactive tables.';\n",
              "          element.innerHTML = '';\n",
              "          dataTable['output_type'] = 'display_data';\n",
              "          await google.colab.output.renderOutput(dataTable, element);\n",
              "          const docLink = document.createElement('div');\n",
              "          docLink.innerHTML = docLinkHtml;\n",
              "          element.appendChild(docLink);\n",
              "        }\n",
              "      </script>\n",
              "    </div>\n",
              "  </div>\n",
              "  "
            ]
          },
          "metadata": {},
          "execution_count": 11
        }
      ],
      "source": [
        "\n",
        "df['weekend'] = df['dayofweek'].apply(lambda x: 1 if (x>3)  else 0)\n",
        "df.head()"
      ]
    },
    {
      "cell_type": "markdown",
      "metadata": {
        "button": false,
        "new_sheet": false,
        "run_control": {
          "read_only": false
        },
        "id": "ElLnCv5JBdkV"
      },
      "source": [
        "## Convertir características categóricas en valores numéricos\n"
      ]
    },
    {
      "cell_type": "markdown",
      "metadata": {
        "button": false,
        "new_sheet": false,
        "run_control": {
          "read_only": false
        },
        "id": "Bcm8n6t6BdkV"
      },
      "source": [
        "Observemos la característica de genero:\n"
      ]
    },
    {
      "cell_type": "code",
      "execution_count": 12,
      "metadata": {
        "button": false,
        "new_sheet": false,
        "run_control": {
          "read_only": false
        },
        "colab": {
          "base_uri": "https://localhost:8080/"
        },
        "id": "Wz2EBGkHBdkV",
        "outputId": "1d6d43e4-4546-4f45-bb99-cf7bf5c1b7a1"
      },
      "outputs": [
        {
          "output_type": "execute_result",
          "data": {
            "text/plain": [
              "Gender  loan_status\n",
              "female  PAIDOFF        0.865385\n",
              "        COLLECTION     0.134615\n",
              "male    PAIDOFF        0.731293\n",
              "        COLLECTION     0.268707\n",
              "Name: loan_status, dtype: float64"
            ]
          },
          "metadata": {},
          "execution_count": 12
        }
      ],
      "source": [
        "df.groupby(['Gender'])['loan_status'].value_counts(normalize=True)"
      ]
    },
    {
      "cell_type": "markdown",
      "metadata": {
        "button": false,
        "new_sheet": false,
        "run_control": {
          "read_only": false
        },
        "id": "2lwozXVyBdkW"
      },
      "source": [
        "86% de las mujeres pagan sus prestamos mientras que el 73% de los hombres lo hacen.\n"
      ]
    },
    {
      "cell_type": "markdown",
      "metadata": {
        "button": false,
        "new_sheet": false,
        "run_control": {
          "read_only": false
        },
        "id": "nO93tP5UBdkX"
      },
      "source": [
        "Convirtamos en 0 a los hombres y a las mujeres en 1:\n"
      ]
    },
    {
      "cell_type": "code",
      "execution_count": 13,
      "metadata": {
        "button": false,
        "new_sheet": false,
        "run_control": {
          "read_only": false
        },
        "colab": {
          "base_uri": "https://localhost:8080/",
          "height": 206
        },
        "id": "tLtXHte-BdkX",
        "outputId": "f722ad92-689a-4bb6-c58a-80ecabff151b"
      },
      "outputs": [
        {
          "output_type": "execute_result",
          "data": {
            "text/plain": [
              "   Unnamed: 0.1  Unnamed: 0 loan_status  Principal  terms effective_date  \\\n",
              "0             0           0     PAIDOFF       1000     30     2016-09-08   \n",
              "1             2           2     PAIDOFF       1000     30     2016-09-08   \n",
              "2             3           3     PAIDOFF       1000     15     2016-09-08   \n",
              "3             4           4     PAIDOFF       1000     30     2016-09-09   \n",
              "4             6           6     PAIDOFF       1000     30     2016-09-09   \n",
              "\n",
              "    due_date  age             education  Gender  dayofweek  weekend  \n",
              "0 2016-10-07   45  High School or Below       0          3        0  \n",
              "1 2016-10-07   33              Bechalor       1          3        0  \n",
              "2 2016-09-22   27               college       0          3        0  \n",
              "3 2016-10-08   28               college       1          4        1  \n",
              "4 2016-10-08   29               college       0          4        1  "
            ],
            "text/html": [
              "\n",
              "  <div id=\"df-52b874ff-99c1-4bb3-b685-df427859560e\">\n",
              "    <div class=\"colab-df-container\">\n",
              "      <div>\n",
              "<style scoped>\n",
              "    .dataframe tbody tr th:only-of-type {\n",
              "        vertical-align: middle;\n",
              "    }\n",
              "\n",
              "    .dataframe tbody tr th {\n",
              "        vertical-align: top;\n",
              "    }\n",
              "\n",
              "    .dataframe thead th {\n",
              "        text-align: right;\n",
              "    }\n",
              "</style>\n",
              "<table border=\"1\" class=\"dataframe\">\n",
              "  <thead>\n",
              "    <tr style=\"text-align: right;\">\n",
              "      <th></th>\n",
              "      <th>Unnamed: 0.1</th>\n",
              "      <th>Unnamed: 0</th>\n",
              "      <th>loan_status</th>\n",
              "      <th>Principal</th>\n",
              "      <th>terms</th>\n",
              "      <th>effective_date</th>\n",
              "      <th>due_date</th>\n",
              "      <th>age</th>\n",
              "      <th>education</th>\n",
              "      <th>Gender</th>\n",
              "      <th>dayofweek</th>\n",
              "      <th>weekend</th>\n",
              "    </tr>\n",
              "  </thead>\n",
              "  <tbody>\n",
              "    <tr>\n",
              "      <th>0</th>\n",
              "      <td>0</td>\n",
              "      <td>0</td>\n",
              "      <td>PAIDOFF</td>\n",
              "      <td>1000</td>\n",
              "      <td>30</td>\n",
              "      <td>2016-09-08</td>\n",
              "      <td>2016-10-07</td>\n",
              "      <td>45</td>\n",
              "      <td>High School or Below</td>\n",
              "      <td>0</td>\n",
              "      <td>3</td>\n",
              "      <td>0</td>\n",
              "    </tr>\n",
              "    <tr>\n",
              "      <th>1</th>\n",
              "      <td>2</td>\n",
              "      <td>2</td>\n",
              "      <td>PAIDOFF</td>\n",
              "      <td>1000</td>\n",
              "      <td>30</td>\n",
              "      <td>2016-09-08</td>\n",
              "      <td>2016-10-07</td>\n",
              "      <td>33</td>\n",
              "      <td>Bechalor</td>\n",
              "      <td>1</td>\n",
              "      <td>3</td>\n",
              "      <td>0</td>\n",
              "    </tr>\n",
              "    <tr>\n",
              "      <th>2</th>\n",
              "      <td>3</td>\n",
              "      <td>3</td>\n",
              "      <td>PAIDOFF</td>\n",
              "      <td>1000</td>\n",
              "      <td>15</td>\n",
              "      <td>2016-09-08</td>\n",
              "      <td>2016-09-22</td>\n",
              "      <td>27</td>\n",
              "      <td>college</td>\n",
              "      <td>0</td>\n",
              "      <td>3</td>\n",
              "      <td>0</td>\n",
              "    </tr>\n",
              "    <tr>\n",
              "      <th>3</th>\n",
              "      <td>4</td>\n",
              "      <td>4</td>\n",
              "      <td>PAIDOFF</td>\n",
              "      <td>1000</td>\n",
              "      <td>30</td>\n",
              "      <td>2016-09-09</td>\n",
              "      <td>2016-10-08</td>\n",
              "      <td>28</td>\n",
              "      <td>college</td>\n",
              "      <td>1</td>\n",
              "      <td>4</td>\n",
              "      <td>1</td>\n",
              "    </tr>\n",
              "    <tr>\n",
              "      <th>4</th>\n",
              "      <td>6</td>\n",
              "      <td>6</td>\n",
              "      <td>PAIDOFF</td>\n",
              "      <td>1000</td>\n",
              "      <td>30</td>\n",
              "      <td>2016-09-09</td>\n",
              "      <td>2016-10-08</td>\n",
              "      <td>29</td>\n",
              "      <td>college</td>\n",
              "      <td>0</td>\n",
              "      <td>4</td>\n",
              "      <td>1</td>\n",
              "    </tr>\n",
              "  </tbody>\n",
              "</table>\n",
              "</div>\n",
              "      <button class=\"colab-df-convert\" onclick=\"convertToInteractive('df-52b874ff-99c1-4bb3-b685-df427859560e')\"\n",
              "              title=\"Convert this dataframe to an interactive table.\"\n",
              "              style=\"display:none;\">\n",
              "        \n",
              "  <svg xmlns=\"http://www.w3.org/2000/svg\" height=\"24px\"viewBox=\"0 0 24 24\"\n",
              "       width=\"24px\">\n",
              "    <path d=\"M0 0h24v24H0V0z\" fill=\"none\"/>\n",
              "    <path d=\"M18.56 5.44l.94 2.06.94-2.06 2.06-.94-2.06-.94-.94-2.06-.94 2.06-2.06.94zm-11 1L8.5 8.5l.94-2.06 2.06-.94-2.06-.94L8.5 2.5l-.94 2.06-2.06.94zm10 10l.94 2.06.94-2.06 2.06-.94-2.06-.94-.94-2.06-.94 2.06-2.06.94z\"/><path d=\"M17.41 7.96l-1.37-1.37c-.4-.4-.92-.59-1.43-.59-.52 0-1.04.2-1.43.59L10.3 9.45l-7.72 7.72c-.78.78-.78 2.05 0 2.83L4 21.41c.39.39.9.59 1.41.59.51 0 1.02-.2 1.41-.59l7.78-7.78 2.81-2.81c.8-.78.8-2.07 0-2.86zM5.41 20L4 18.59l7.72-7.72 1.47 1.35L5.41 20z\"/>\n",
              "  </svg>\n",
              "      </button>\n",
              "      \n",
              "  <style>\n",
              "    .colab-df-container {\n",
              "      display:flex;\n",
              "      flex-wrap:wrap;\n",
              "      gap: 12px;\n",
              "    }\n",
              "\n",
              "    .colab-df-convert {\n",
              "      background-color: #E8F0FE;\n",
              "      border: none;\n",
              "      border-radius: 50%;\n",
              "      cursor: pointer;\n",
              "      display: none;\n",
              "      fill: #1967D2;\n",
              "      height: 32px;\n",
              "      padding: 0 0 0 0;\n",
              "      width: 32px;\n",
              "    }\n",
              "\n",
              "    .colab-df-convert:hover {\n",
              "      background-color: #E2EBFA;\n",
              "      box-shadow: 0px 1px 2px rgba(60, 64, 67, 0.3), 0px 1px 3px 1px rgba(60, 64, 67, 0.15);\n",
              "      fill: #174EA6;\n",
              "    }\n",
              "\n",
              "    [theme=dark] .colab-df-convert {\n",
              "      background-color: #3B4455;\n",
              "      fill: #D2E3FC;\n",
              "    }\n",
              "\n",
              "    [theme=dark] .colab-df-convert:hover {\n",
              "      background-color: #434B5C;\n",
              "      box-shadow: 0px 1px 3px 1px rgba(0, 0, 0, 0.15);\n",
              "      filter: drop-shadow(0px 1px 2px rgba(0, 0, 0, 0.3));\n",
              "      fill: #FFFFFF;\n",
              "    }\n",
              "  </style>\n",
              "\n",
              "      <script>\n",
              "        const buttonEl =\n",
              "          document.querySelector('#df-52b874ff-99c1-4bb3-b685-df427859560e button.colab-df-convert');\n",
              "        buttonEl.style.display =\n",
              "          google.colab.kernel.accessAllowed ? 'block' : 'none';\n",
              "\n",
              "        async function convertToInteractive(key) {\n",
              "          const element = document.querySelector('#df-52b874ff-99c1-4bb3-b685-df427859560e');\n",
              "          const dataTable =\n",
              "            await google.colab.kernel.invokeFunction('convertToInteractive',\n",
              "                                                     [key], {});\n",
              "          if (!dataTable) return;\n",
              "\n",
              "          const docLinkHtml = 'Like what you see? Visit the ' +\n",
              "            '<a target=\"_blank\" href=https://colab.research.google.com/notebooks/data_table.ipynb>data table notebook</a>'\n",
              "            + ' to learn more about interactive tables.';\n",
              "          element.innerHTML = '';\n",
              "          dataTable['output_type'] = 'display_data';\n",
              "          await google.colab.output.renderOutput(dataTable, element);\n",
              "          const docLink = document.createElement('div');\n",
              "          docLink.innerHTML = docLinkHtml;\n",
              "          element.appendChild(docLink);\n",
              "        }\n",
              "      </script>\n",
              "    </div>\n",
              "  </div>\n",
              "  "
            ]
          },
          "metadata": {},
          "execution_count": 13
        }
      ],
      "source": [
        "df['Gender'].replace(to_replace=['male','female'], value=[0,1],inplace=True)\n",
        "df.head()"
      ]
    },
    {
      "cell_type": "markdown",
      "metadata": {
        "button": false,
        "new_sheet": false,
        "run_control": {
          "read_only": false
        },
        "id": "349hZo5lBdkX"
      },
      "source": [
        "## Codificación One Hot\n",
        "\n",
        "#### ¿Qué hay acerca de la educación?\n"
      ]
    },
    {
      "cell_type": "code",
      "execution_count": 14,
      "metadata": {
        "button": false,
        "new_sheet": false,
        "run_control": {
          "read_only": false
        },
        "colab": {
          "base_uri": "https://localhost:8080/"
        },
        "id": "4tYkmTQkBdkX",
        "outputId": "4542d724-d864-4554-b2eb-1df2f9535cc7"
      },
      "outputs": [
        {
          "output_type": "execute_result",
          "data": {
            "text/plain": [
              "education             loan_status\n",
              "Bechalor              PAIDOFF        0.750000\n",
              "                      COLLECTION     0.250000\n",
              "High School or Below  PAIDOFF        0.741722\n",
              "                      COLLECTION     0.258278\n",
              "Master or Above       COLLECTION     0.500000\n",
              "                      PAIDOFF        0.500000\n",
              "college               PAIDOFF        0.765101\n",
              "                      COLLECTION     0.234899\n",
              "Name: loan_status, dtype: float64"
            ]
          },
          "metadata": {},
          "execution_count": 14
        }
      ],
      "source": [
        "df.groupby(['education'])['loan_status'].value_counts(normalize=True)"
      ]
    },
    {
      "cell_type": "markdown",
      "metadata": {
        "button": false,
        "new_sheet": false,
        "run_control": {
          "read_only": false
        },
        "id": "6b7oudxPBdkY"
      },
      "source": [
        "#### Característica antes de la codificación One Hot\n"
      ]
    },
    {
      "cell_type": "code",
      "execution_count": 15,
      "metadata": {
        "button": false,
        "new_sheet": false,
        "run_control": {
          "read_only": false
        },
        "colab": {
          "base_uri": "https://localhost:8080/",
          "height": 206
        },
        "id": "IZ0HAdGfBdkY",
        "outputId": "2d69d1e6-04a5-4f5c-fa3f-d4175966597e"
      },
      "outputs": [
        {
          "output_type": "execute_result",
          "data": {
            "text/plain": [
              "   Principal  terms  age  Gender             education\n",
              "0       1000     30   45       0  High School or Below\n",
              "1       1000     30   33       1              Bechalor\n",
              "2       1000     15   27       0               college\n",
              "3       1000     30   28       1               college\n",
              "4       1000     30   29       0               college"
            ],
            "text/html": [
              "\n",
              "  <div id=\"df-18026b7f-b86f-4703-9e93-95c8b7f28a56\">\n",
              "    <div class=\"colab-df-container\">\n",
              "      <div>\n",
              "<style scoped>\n",
              "    .dataframe tbody tr th:only-of-type {\n",
              "        vertical-align: middle;\n",
              "    }\n",
              "\n",
              "    .dataframe tbody tr th {\n",
              "        vertical-align: top;\n",
              "    }\n",
              "\n",
              "    .dataframe thead th {\n",
              "        text-align: right;\n",
              "    }\n",
              "</style>\n",
              "<table border=\"1\" class=\"dataframe\">\n",
              "  <thead>\n",
              "    <tr style=\"text-align: right;\">\n",
              "      <th></th>\n",
              "      <th>Principal</th>\n",
              "      <th>terms</th>\n",
              "      <th>age</th>\n",
              "      <th>Gender</th>\n",
              "      <th>education</th>\n",
              "    </tr>\n",
              "  </thead>\n",
              "  <tbody>\n",
              "    <tr>\n",
              "      <th>0</th>\n",
              "      <td>1000</td>\n",
              "      <td>30</td>\n",
              "      <td>45</td>\n",
              "      <td>0</td>\n",
              "      <td>High School or Below</td>\n",
              "    </tr>\n",
              "    <tr>\n",
              "      <th>1</th>\n",
              "      <td>1000</td>\n",
              "      <td>30</td>\n",
              "      <td>33</td>\n",
              "      <td>1</td>\n",
              "      <td>Bechalor</td>\n",
              "    </tr>\n",
              "    <tr>\n",
              "      <th>2</th>\n",
              "      <td>1000</td>\n",
              "      <td>15</td>\n",
              "      <td>27</td>\n",
              "      <td>0</td>\n",
              "      <td>college</td>\n",
              "    </tr>\n",
              "    <tr>\n",
              "      <th>3</th>\n",
              "      <td>1000</td>\n",
              "      <td>30</td>\n",
              "      <td>28</td>\n",
              "      <td>1</td>\n",
              "      <td>college</td>\n",
              "    </tr>\n",
              "    <tr>\n",
              "      <th>4</th>\n",
              "      <td>1000</td>\n",
              "      <td>30</td>\n",
              "      <td>29</td>\n",
              "      <td>0</td>\n",
              "      <td>college</td>\n",
              "    </tr>\n",
              "  </tbody>\n",
              "</table>\n",
              "</div>\n",
              "      <button class=\"colab-df-convert\" onclick=\"convertToInteractive('df-18026b7f-b86f-4703-9e93-95c8b7f28a56')\"\n",
              "              title=\"Convert this dataframe to an interactive table.\"\n",
              "              style=\"display:none;\">\n",
              "        \n",
              "  <svg xmlns=\"http://www.w3.org/2000/svg\" height=\"24px\"viewBox=\"0 0 24 24\"\n",
              "       width=\"24px\">\n",
              "    <path d=\"M0 0h24v24H0V0z\" fill=\"none\"/>\n",
              "    <path d=\"M18.56 5.44l.94 2.06.94-2.06 2.06-.94-2.06-.94-.94-2.06-.94 2.06-2.06.94zm-11 1L8.5 8.5l.94-2.06 2.06-.94-2.06-.94L8.5 2.5l-.94 2.06-2.06.94zm10 10l.94 2.06.94-2.06 2.06-.94-2.06-.94-.94-2.06-.94 2.06-2.06.94z\"/><path d=\"M17.41 7.96l-1.37-1.37c-.4-.4-.92-.59-1.43-.59-.52 0-1.04.2-1.43.59L10.3 9.45l-7.72 7.72c-.78.78-.78 2.05 0 2.83L4 21.41c.39.39.9.59 1.41.59.51 0 1.02-.2 1.41-.59l7.78-7.78 2.81-2.81c.8-.78.8-2.07 0-2.86zM5.41 20L4 18.59l7.72-7.72 1.47 1.35L5.41 20z\"/>\n",
              "  </svg>\n",
              "      </button>\n",
              "      \n",
              "  <style>\n",
              "    .colab-df-container {\n",
              "      display:flex;\n",
              "      flex-wrap:wrap;\n",
              "      gap: 12px;\n",
              "    }\n",
              "\n",
              "    .colab-df-convert {\n",
              "      background-color: #E8F0FE;\n",
              "      border: none;\n",
              "      border-radius: 50%;\n",
              "      cursor: pointer;\n",
              "      display: none;\n",
              "      fill: #1967D2;\n",
              "      height: 32px;\n",
              "      padding: 0 0 0 0;\n",
              "      width: 32px;\n",
              "    }\n",
              "\n",
              "    .colab-df-convert:hover {\n",
              "      background-color: #E2EBFA;\n",
              "      box-shadow: 0px 1px 2px rgba(60, 64, 67, 0.3), 0px 1px 3px 1px rgba(60, 64, 67, 0.15);\n",
              "      fill: #174EA6;\n",
              "    }\n",
              "\n",
              "    [theme=dark] .colab-df-convert {\n",
              "      background-color: #3B4455;\n",
              "      fill: #D2E3FC;\n",
              "    }\n",
              "\n",
              "    [theme=dark] .colab-df-convert:hover {\n",
              "      background-color: #434B5C;\n",
              "      box-shadow: 0px 1px 3px 1px rgba(0, 0, 0, 0.15);\n",
              "      filter: drop-shadow(0px 1px 2px rgba(0, 0, 0, 0.3));\n",
              "      fill: #FFFFFF;\n",
              "    }\n",
              "  </style>\n",
              "\n",
              "      <script>\n",
              "        const buttonEl =\n",
              "          document.querySelector('#df-18026b7f-b86f-4703-9e93-95c8b7f28a56 button.colab-df-convert');\n",
              "        buttonEl.style.display =\n",
              "          google.colab.kernel.accessAllowed ? 'block' : 'none';\n",
              "\n",
              "        async function convertToInteractive(key) {\n",
              "          const element = document.querySelector('#df-18026b7f-b86f-4703-9e93-95c8b7f28a56');\n",
              "          const dataTable =\n",
              "            await google.colab.kernel.invokeFunction('convertToInteractive',\n",
              "                                                     [key], {});\n",
              "          if (!dataTable) return;\n",
              "\n",
              "          const docLinkHtml = 'Like what you see? Visit the ' +\n",
              "            '<a target=\"_blank\" href=https://colab.research.google.com/notebooks/data_table.ipynb>data table notebook</a>'\n",
              "            + ' to learn more about interactive tables.';\n",
              "          element.innerHTML = '';\n",
              "          dataTable['output_type'] = 'display_data';\n",
              "          await google.colab.output.renderOutput(dataTable, element);\n",
              "          const docLink = document.createElement('div');\n",
              "          docLink.innerHTML = docLinkHtml;\n",
              "          element.appendChild(docLink);\n",
              "        }\n",
              "      </script>\n",
              "    </div>\n",
              "  </div>\n",
              "  "
            ]
          },
          "metadata": {},
          "execution_count": 15
        }
      ],
      "source": [
        "df[['Principal','terms','age','Gender','education']].head()"
      ]
    },
    {
      "cell_type": "markdown",
      "metadata": {
        "button": false,
        "new_sheet": false,
        "run_control": {
          "read_only": false
        },
        "id": "BHi7CIltBdkY"
      },
      "source": [
        "#### Utilice la técnica de codificación One Hot para transformar las variables categóricas en binarias y agrégelas al dataframe de características\n"
      ]
    },
    {
      "cell_type": "code",
      "execution_count": 16,
      "metadata": {
        "button": false,
        "new_sheet": false,
        "run_control": {
          "read_only": false
        },
        "colab": {
          "base_uri": "https://localhost:8080/",
          "height": 206
        },
        "id": "TaYUvpyABdkY",
        "outputId": "7c98d686-db6a-467e-d3a0-9004b8f88e8e"
      },
      "outputs": [
        {
          "output_type": "execute_result",
          "data": {
            "text/plain": [
              "   Principal  terms  age  Gender  weekend  Bechalor  High School or Below  \\\n",
              "0       1000     30   45       0        0         0                     1   \n",
              "1       1000     30   33       1        0         1                     0   \n",
              "2       1000     15   27       0        0         0                     0   \n",
              "3       1000     30   28       1        1         0                     0   \n",
              "4       1000     30   29       0        1         0                     0   \n",
              "\n",
              "   college  \n",
              "0        0  \n",
              "1        0  \n",
              "2        1  \n",
              "3        1  \n",
              "4        1  "
            ],
            "text/html": [
              "\n",
              "  <div id=\"df-7ebf41ca-04fe-45b3-add0-b000a3461f4c\">\n",
              "    <div class=\"colab-df-container\">\n",
              "      <div>\n",
              "<style scoped>\n",
              "    .dataframe tbody tr th:only-of-type {\n",
              "        vertical-align: middle;\n",
              "    }\n",
              "\n",
              "    .dataframe tbody tr th {\n",
              "        vertical-align: top;\n",
              "    }\n",
              "\n",
              "    .dataframe thead th {\n",
              "        text-align: right;\n",
              "    }\n",
              "</style>\n",
              "<table border=\"1\" class=\"dataframe\">\n",
              "  <thead>\n",
              "    <tr style=\"text-align: right;\">\n",
              "      <th></th>\n",
              "      <th>Principal</th>\n",
              "      <th>terms</th>\n",
              "      <th>age</th>\n",
              "      <th>Gender</th>\n",
              "      <th>weekend</th>\n",
              "      <th>Bechalor</th>\n",
              "      <th>High School or Below</th>\n",
              "      <th>college</th>\n",
              "    </tr>\n",
              "  </thead>\n",
              "  <tbody>\n",
              "    <tr>\n",
              "      <th>0</th>\n",
              "      <td>1000</td>\n",
              "      <td>30</td>\n",
              "      <td>45</td>\n",
              "      <td>0</td>\n",
              "      <td>0</td>\n",
              "      <td>0</td>\n",
              "      <td>1</td>\n",
              "      <td>0</td>\n",
              "    </tr>\n",
              "    <tr>\n",
              "      <th>1</th>\n",
              "      <td>1000</td>\n",
              "      <td>30</td>\n",
              "      <td>33</td>\n",
              "      <td>1</td>\n",
              "      <td>0</td>\n",
              "      <td>1</td>\n",
              "      <td>0</td>\n",
              "      <td>0</td>\n",
              "    </tr>\n",
              "    <tr>\n",
              "      <th>2</th>\n",
              "      <td>1000</td>\n",
              "      <td>15</td>\n",
              "      <td>27</td>\n",
              "      <td>0</td>\n",
              "      <td>0</td>\n",
              "      <td>0</td>\n",
              "      <td>0</td>\n",
              "      <td>1</td>\n",
              "    </tr>\n",
              "    <tr>\n",
              "      <th>3</th>\n",
              "      <td>1000</td>\n",
              "      <td>30</td>\n",
              "      <td>28</td>\n",
              "      <td>1</td>\n",
              "      <td>1</td>\n",
              "      <td>0</td>\n",
              "      <td>0</td>\n",
              "      <td>1</td>\n",
              "    </tr>\n",
              "    <tr>\n",
              "      <th>4</th>\n",
              "      <td>1000</td>\n",
              "      <td>30</td>\n",
              "      <td>29</td>\n",
              "      <td>0</td>\n",
              "      <td>1</td>\n",
              "      <td>0</td>\n",
              "      <td>0</td>\n",
              "      <td>1</td>\n",
              "    </tr>\n",
              "  </tbody>\n",
              "</table>\n",
              "</div>\n",
              "      <button class=\"colab-df-convert\" onclick=\"convertToInteractive('df-7ebf41ca-04fe-45b3-add0-b000a3461f4c')\"\n",
              "              title=\"Convert this dataframe to an interactive table.\"\n",
              "              style=\"display:none;\">\n",
              "        \n",
              "  <svg xmlns=\"http://www.w3.org/2000/svg\" height=\"24px\"viewBox=\"0 0 24 24\"\n",
              "       width=\"24px\">\n",
              "    <path d=\"M0 0h24v24H0V0z\" fill=\"none\"/>\n",
              "    <path d=\"M18.56 5.44l.94 2.06.94-2.06 2.06-.94-2.06-.94-.94-2.06-.94 2.06-2.06.94zm-11 1L8.5 8.5l.94-2.06 2.06-.94-2.06-.94L8.5 2.5l-.94 2.06-2.06.94zm10 10l.94 2.06.94-2.06 2.06-.94-2.06-.94-.94-2.06-.94 2.06-2.06.94z\"/><path d=\"M17.41 7.96l-1.37-1.37c-.4-.4-.92-.59-1.43-.59-.52 0-1.04.2-1.43.59L10.3 9.45l-7.72 7.72c-.78.78-.78 2.05 0 2.83L4 21.41c.39.39.9.59 1.41.59.51 0 1.02-.2 1.41-.59l7.78-7.78 2.81-2.81c.8-.78.8-2.07 0-2.86zM5.41 20L4 18.59l7.72-7.72 1.47 1.35L5.41 20z\"/>\n",
              "  </svg>\n",
              "      </button>\n",
              "      \n",
              "  <style>\n",
              "    .colab-df-container {\n",
              "      display:flex;\n",
              "      flex-wrap:wrap;\n",
              "      gap: 12px;\n",
              "    }\n",
              "\n",
              "    .colab-df-convert {\n",
              "      background-color: #E8F0FE;\n",
              "      border: none;\n",
              "      border-radius: 50%;\n",
              "      cursor: pointer;\n",
              "      display: none;\n",
              "      fill: #1967D2;\n",
              "      height: 32px;\n",
              "      padding: 0 0 0 0;\n",
              "      width: 32px;\n",
              "    }\n",
              "\n",
              "    .colab-df-convert:hover {\n",
              "      background-color: #E2EBFA;\n",
              "      box-shadow: 0px 1px 2px rgba(60, 64, 67, 0.3), 0px 1px 3px 1px rgba(60, 64, 67, 0.15);\n",
              "      fill: #174EA6;\n",
              "    }\n",
              "\n",
              "    [theme=dark] .colab-df-convert {\n",
              "      background-color: #3B4455;\n",
              "      fill: #D2E3FC;\n",
              "    }\n",
              "\n",
              "    [theme=dark] .colab-df-convert:hover {\n",
              "      background-color: #434B5C;\n",
              "      box-shadow: 0px 1px 3px 1px rgba(0, 0, 0, 0.15);\n",
              "      filter: drop-shadow(0px 1px 2px rgba(0, 0, 0, 0.3));\n",
              "      fill: #FFFFFF;\n",
              "    }\n",
              "  </style>\n",
              "\n",
              "      <script>\n",
              "        const buttonEl =\n",
              "          document.querySelector('#df-7ebf41ca-04fe-45b3-add0-b000a3461f4c button.colab-df-convert');\n",
              "        buttonEl.style.display =\n",
              "          google.colab.kernel.accessAllowed ? 'block' : 'none';\n",
              "\n",
              "        async function convertToInteractive(key) {\n",
              "          const element = document.querySelector('#df-7ebf41ca-04fe-45b3-add0-b000a3461f4c');\n",
              "          const dataTable =\n",
              "            await google.colab.kernel.invokeFunction('convertToInteractive',\n",
              "                                                     [key], {});\n",
              "          if (!dataTable) return;\n",
              "\n",
              "          const docLinkHtml = 'Like what you see? Visit the ' +\n",
              "            '<a target=\"_blank\" href=https://colab.research.google.com/notebooks/data_table.ipynb>data table notebook</a>'\n",
              "            + ' to learn more about interactive tables.';\n",
              "          element.innerHTML = '';\n",
              "          dataTable['output_type'] = 'display_data';\n",
              "          await google.colab.output.renderOutput(dataTable, element);\n",
              "          const docLink = document.createElement('div');\n",
              "          docLink.innerHTML = docLinkHtml;\n",
              "          element.appendChild(docLink);\n",
              "        }\n",
              "      </script>\n",
              "    </div>\n",
              "  </div>\n",
              "  "
            ]
          },
          "metadata": {},
          "execution_count": 16
        }
      ],
      "source": [
        "Feature = df[['Principal','terms','age','Gender','weekend']]\n",
        "Feature = pd.concat([Feature,pd.get_dummies(df['education'])], axis=1)\n",
        "Feature.drop(['Master or Above'], axis = 1,inplace=True)\n",
        "Feature.head()\n"
      ]
    },
    {
      "cell_type": "markdown",
      "metadata": {
        "button": false,
        "new_sheet": false,
        "run_control": {
          "read_only": false
        },
        "id": "2HbHJMxJBdkZ"
      },
      "source": [
        "### Selección de característica\n"
      ]
    },
    {
      "cell_type": "markdown",
      "metadata": {
        "button": false,
        "new_sheet": false,
        "run_control": {
          "read_only": false
        },
        "id": "FqewuyC7BdkZ"
      },
      "source": [
        "Definamos los conjuntos de características, X (Variable(s) dependiente(s) ):\n"
      ]
    },
    {
      "cell_type": "code",
      "execution_count": 17,
      "metadata": {
        "button": false,
        "new_sheet": false,
        "run_control": {
          "read_only": false
        },
        "colab": {
          "base_uri": "https://localhost:8080/",
          "height": 206
        },
        "id": "sVJDshlkBdkZ",
        "outputId": "ce57a101-c953-4a28-9a33-b66abad0acd7"
      },
      "outputs": [
        {
          "output_type": "execute_result",
          "data": {
            "text/plain": [
              "   Principal  terms  age  Gender  weekend  Bechalor  High School or Below  \\\n",
              "0       1000     30   45       0        0         0                     1   \n",
              "1       1000     30   33       1        0         1                     0   \n",
              "2       1000     15   27       0        0         0                     0   \n",
              "3       1000     30   28       1        1         0                     0   \n",
              "4       1000     30   29       0        1         0                     0   \n",
              "\n",
              "   college  \n",
              "0        0  \n",
              "1        0  \n",
              "2        1  \n",
              "3        1  \n",
              "4        1  "
            ],
            "text/html": [
              "\n",
              "  <div id=\"df-c496168b-ec38-4518-b1f6-e77ccdfe477c\">\n",
              "    <div class=\"colab-df-container\">\n",
              "      <div>\n",
              "<style scoped>\n",
              "    .dataframe tbody tr th:only-of-type {\n",
              "        vertical-align: middle;\n",
              "    }\n",
              "\n",
              "    .dataframe tbody tr th {\n",
              "        vertical-align: top;\n",
              "    }\n",
              "\n",
              "    .dataframe thead th {\n",
              "        text-align: right;\n",
              "    }\n",
              "</style>\n",
              "<table border=\"1\" class=\"dataframe\">\n",
              "  <thead>\n",
              "    <tr style=\"text-align: right;\">\n",
              "      <th></th>\n",
              "      <th>Principal</th>\n",
              "      <th>terms</th>\n",
              "      <th>age</th>\n",
              "      <th>Gender</th>\n",
              "      <th>weekend</th>\n",
              "      <th>Bechalor</th>\n",
              "      <th>High School or Below</th>\n",
              "      <th>college</th>\n",
              "    </tr>\n",
              "  </thead>\n",
              "  <tbody>\n",
              "    <tr>\n",
              "      <th>0</th>\n",
              "      <td>1000</td>\n",
              "      <td>30</td>\n",
              "      <td>45</td>\n",
              "      <td>0</td>\n",
              "      <td>0</td>\n",
              "      <td>0</td>\n",
              "      <td>1</td>\n",
              "      <td>0</td>\n",
              "    </tr>\n",
              "    <tr>\n",
              "      <th>1</th>\n",
              "      <td>1000</td>\n",
              "      <td>30</td>\n",
              "      <td>33</td>\n",
              "      <td>1</td>\n",
              "      <td>0</td>\n",
              "      <td>1</td>\n",
              "      <td>0</td>\n",
              "      <td>0</td>\n",
              "    </tr>\n",
              "    <tr>\n",
              "      <th>2</th>\n",
              "      <td>1000</td>\n",
              "      <td>15</td>\n",
              "      <td>27</td>\n",
              "      <td>0</td>\n",
              "      <td>0</td>\n",
              "      <td>0</td>\n",
              "      <td>0</td>\n",
              "      <td>1</td>\n",
              "    </tr>\n",
              "    <tr>\n",
              "      <th>3</th>\n",
              "      <td>1000</td>\n",
              "      <td>30</td>\n",
              "      <td>28</td>\n",
              "      <td>1</td>\n",
              "      <td>1</td>\n",
              "      <td>0</td>\n",
              "      <td>0</td>\n",
              "      <td>1</td>\n",
              "    </tr>\n",
              "    <tr>\n",
              "      <th>4</th>\n",
              "      <td>1000</td>\n",
              "      <td>30</td>\n",
              "      <td>29</td>\n",
              "      <td>0</td>\n",
              "      <td>1</td>\n",
              "      <td>0</td>\n",
              "      <td>0</td>\n",
              "      <td>1</td>\n",
              "    </tr>\n",
              "  </tbody>\n",
              "</table>\n",
              "</div>\n",
              "      <button class=\"colab-df-convert\" onclick=\"convertToInteractive('df-c496168b-ec38-4518-b1f6-e77ccdfe477c')\"\n",
              "              title=\"Convert this dataframe to an interactive table.\"\n",
              "              style=\"display:none;\">\n",
              "        \n",
              "  <svg xmlns=\"http://www.w3.org/2000/svg\" height=\"24px\"viewBox=\"0 0 24 24\"\n",
              "       width=\"24px\">\n",
              "    <path d=\"M0 0h24v24H0V0z\" fill=\"none\"/>\n",
              "    <path d=\"M18.56 5.44l.94 2.06.94-2.06 2.06-.94-2.06-.94-.94-2.06-.94 2.06-2.06.94zm-11 1L8.5 8.5l.94-2.06 2.06-.94-2.06-.94L8.5 2.5l-.94 2.06-2.06.94zm10 10l.94 2.06.94-2.06 2.06-.94-2.06-.94-.94-2.06-.94 2.06-2.06.94z\"/><path d=\"M17.41 7.96l-1.37-1.37c-.4-.4-.92-.59-1.43-.59-.52 0-1.04.2-1.43.59L10.3 9.45l-7.72 7.72c-.78.78-.78 2.05 0 2.83L4 21.41c.39.39.9.59 1.41.59.51 0 1.02-.2 1.41-.59l7.78-7.78 2.81-2.81c.8-.78.8-2.07 0-2.86zM5.41 20L4 18.59l7.72-7.72 1.47 1.35L5.41 20z\"/>\n",
              "  </svg>\n",
              "      </button>\n",
              "      \n",
              "  <style>\n",
              "    .colab-df-container {\n",
              "      display:flex;\n",
              "      flex-wrap:wrap;\n",
              "      gap: 12px;\n",
              "    }\n",
              "\n",
              "    .colab-df-convert {\n",
              "      background-color: #E8F0FE;\n",
              "      border: none;\n",
              "      border-radius: 50%;\n",
              "      cursor: pointer;\n",
              "      display: none;\n",
              "      fill: #1967D2;\n",
              "      height: 32px;\n",
              "      padding: 0 0 0 0;\n",
              "      width: 32px;\n",
              "    }\n",
              "\n",
              "    .colab-df-convert:hover {\n",
              "      background-color: #E2EBFA;\n",
              "      box-shadow: 0px 1px 2px rgba(60, 64, 67, 0.3), 0px 1px 3px 1px rgba(60, 64, 67, 0.15);\n",
              "      fill: #174EA6;\n",
              "    }\n",
              "\n",
              "    [theme=dark] .colab-df-convert {\n",
              "      background-color: #3B4455;\n",
              "      fill: #D2E3FC;\n",
              "    }\n",
              "\n",
              "    [theme=dark] .colab-df-convert:hover {\n",
              "      background-color: #434B5C;\n",
              "      box-shadow: 0px 1px 3px 1px rgba(0, 0, 0, 0.15);\n",
              "      filter: drop-shadow(0px 1px 2px rgba(0, 0, 0, 0.3));\n",
              "      fill: #FFFFFF;\n",
              "    }\n",
              "  </style>\n",
              "\n",
              "      <script>\n",
              "        const buttonEl =\n",
              "          document.querySelector('#df-c496168b-ec38-4518-b1f6-e77ccdfe477c button.colab-df-convert');\n",
              "        buttonEl.style.display =\n",
              "          google.colab.kernel.accessAllowed ? 'block' : 'none';\n",
              "\n",
              "        async function convertToInteractive(key) {\n",
              "          const element = document.querySelector('#df-c496168b-ec38-4518-b1f6-e77ccdfe477c');\n",
              "          const dataTable =\n",
              "            await google.colab.kernel.invokeFunction('convertToInteractive',\n",
              "                                                     [key], {});\n",
              "          if (!dataTable) return;\n",
              "\n",
              "          const docLinkHtml = 'Like what you see? Visit the ' +\n",
              "            '<a target=\"_blank\" href=https://colab.research.google.com/notebooks/data_table.ipynb>data table notebook</a>'\n",
              "            + ' to learn more about interactive tables.';\n",
              "          element.innerHTML = '';\n",
              "          dataTable['output_type'] = 'display_data';\n",
              "          await google.colab.output.renderOutput(dataTable, element);\n",
              "          const docLink = document.createElement('div');\n",
              "          docLink.innerHTML = docLinkHtml;\n",
              "          element.appendChild(docLink);\n",
              "        }\n",
              "      </script>\n",
              "    </div>\n",
              "  </div>\n",
              "  "
            ]
          },
          "metadata": {},
          "execution_count": 17
        }
      ],
      "source": [
        "X = Feature\n",
        "X[0:5]"
      ]
    },
    {
      "cell_type": "markdown",
      "metadata": {
        "button": false,
        "new_sheet": false,
        "run_control": {
          "read_only": false
        },
        "id": "VxihSDNZBdka"
      },
      "source": [
        "¿Cuales son nuestras etiquetas? (Variable dependiente u objetivo)\n"
      ]
    },
    {
      "cell_type": "code",
      "execution_count": 19,
      "metadata": {
        "button": false,
        "new_sheet": false,
        "run_control": {
          "read_only": false
        },
        "colab": {
          "base_uri": "https://localhost:8080/"
        },
        "id": "mTvyUFU2Bdka",
        "outputId": "be39784e-30a5-4879-dcf0-8e83cdca3d43"
      },
      "outputs": [
        {
          "output_type": "execute_result",
          "data": {
            "text/plain": [
              "array(['PAIDOFF', 'PAIDOFF', 'PAIDOFF', 'PAIDOFF', 'PAIDOFF'],\n",
              "      dtype=object)"
            ]
          },
          "metadata": {},
          "execution_count": 19
        }
      ],
      "source": [
        "y = df['loan_status'].values\n",
        "y[0:5]"
      ]
    },
    {
      "cell_type": "markdown",
      "metadata": {
        "button": false,
        "new_sheet": false,
        "run_control": {
          "read_only": false
        },
        "id": "OGUaMqumBdka"
      },
      "source": [
        "## Datos Normalizados\n"
      ]
    },
    {
      "cell_type": "markdown",
      "metadata": {
        "button": false,
        "new_sheet": false,
        "run_control": {
          "read_only": false
        },
        "id": "iO1VhxWIBdka"
      },
      "source": [
        "La estandarización de los datos le da a estos una media de cero y varianza con valor de la unidad (tecnicamente debería hacerse despues de la división entre grupos de prueba y entrenamiento)\n"
      ]
    },
    {
      "cell_type": "code",
      "execution_count": 20,
      "metadata": {
        "button": false,
        "new_sheet": false,
        "run_control": {
          "read_only": false
        },
        "colab": {
          "base_uri": "https://localhost:8080/"
        },
        "id": "SVtsCz5iBdkb",
        "outputId": "520c26f1-a7d3-47b1-ebef-034cb70a2c2a"
      },
      "outputs": [
        {
          "output_type": "execute_result",
          "data": {
            "text/plain": [
              "array([[ 0.51578458,  0.92071769,  2.33152555, -0.42056004, -1.20577805,\n",
              "        -0.38170062,  1.13639374, -0.86968108],\n",
              "       [ 0.51578458,  0.92071769,  0.34170148,  2.37778177, -1.20577805,\n",
              "         2.61985426, -0.87997669, -0.86968108],\n",
              "       [ 0.51578458, -0.95911111, -0.65321055, -0.42056004, -1.20577805,\n",
              "        -0.38170062, -0.87997669,  1.14984679],\n",
              "       [ 0.51578458,  0.92071769, -0.48739188,  2.37778177,  0.82934003,\n",
              "        -0.38170062, -0.87997669,  1.14984679],\n",
              "       [ 0.51578458,  0.92071769, -0.3215732 , -0.42056004,  0.82934003,\n",
              "        -0.38170062, -0.87997669,  1.14984679]])"
            ]
          },
          "metadata": {},
          "execution_count": 20
        }
      ],
      "source": [
        "X= preprocessing.StandardScaler().fit(X).transform(X)\n",
        "X[0:5]"
      ]
    },
    {
      "cell_type": "markdown",
      "metadata": {
        "button": false,
        "new_sheet": false,
        "run_control": {
          "read_only": false
        },
        "id": "zsYPixubBdkb"
      },
      "source": [
        "# Clasificación\n"
      ]
    },
    {
      "cell_type": "markdown",
      "metadata": {
        "button": false,
        "new_sheet": false,
        "run_control": {
          "read_only": false
        },
        "id": "-GeeXgriBdkb"
      },
      "source": [
        "Ahora es su turno, utilice el conjunto de entrenamiento para construir un modelo preciso. Despues use el conjunto de validación para reportar la precisión del modelo.\n",
        "Deberá utilizar el siguiente algoritmo:\n",
        "\n",
        "*   K Nearest Neighbor(KNN)\n",
        "*   Arbol de Decisión\n",
        "*   Maquina de Soporte Vectorial (SVM)\n",
        "*   Regresión Logística\n",
        "\n",
        "**Observaciónes:**\n",
        "\n",
        "*   Puede ir arriba y cambiar el pre procesamiento, la selección y extracción de características, etc, para mejorar el modelo.\n",
        "*   Deberá utilizar alguna de las librerías para el desarrollo de algoritmos de clasificación; ya sea scikit-learn, Scipy o Numpy\n",
        "*   Deberá incluir el código del algoritmo en las siguientes celdas.\n"
      ]
    },
    {
      "cell_type": "markdown",
      "metadata": {
        "id": "IP2w6SfABdkb"
      },
      "source": [
        "# K Nearest Neighbor(KNN)\n",
        "\n",
        "Observación: Deberá encontrar el mejor valor de k para construir el modelo con la mejor eficacia.\n",
        "**Advertencia:** No deberá utilizar **loan_test.csv** para encontrar el mejor valor de k, sin embargo, puede dividir train_loan.csv para entrenamiento y pruebas para encontrar el mejor valor de **k**.\n"
      ]
    },
    {
      "cell_type": "code",
      "execution_count": 21,
      "metadata": {
        "colab": {
          "base_uri": "https://localhost:8080/"
        },
        "id": "Z5lECs4ZBdkc",
        "outputId": "5a0921d1-3e00-4ba8-bbbb-59d13a8a7284"
      },
      "outputs": [
        {
          "output_type": "stream",
          "name": "stdout",
          "text": [
            "Set de Entrenamiento: (276, 8) (276,)\n",
            "Set de Prueba: (70, 8) (70,)\n"
          ]
        }
      ],
      "source": [
        "from sklearn.model_selection import train_test_split\n",
        "X_train, X_test, y_train, y_test = train_test_split( X, y, test_size=0.2, random_state=4)\n",
        "print ('Set de Entrenamiento:', X_train.shape,  y_train.shape)\n",
        "print ('Set de Prueba:', X_test.shape,  y_test.shape)"
      ]
    },
    {
      "cell_type": "code",
      "execution_count": 22,
      "metadata": {
        "scrolled": true,
        "colab": {
          "base_uri": "https://localhost:8080/",
          "height": 505
        },
        "id": "0e0JuGwGBdkc",
        "outputId": "e91f5770-7bfc-4c7b-dcff-a13bacf4ee02"
      },
      "outputs": [
        {
          "output_type": "display_data",
          "data": {
            "text/plain": [
              "<Figure size 640x480 with 1 Axes>"
            ],
            "image/png": "[encoded data removed]"
          },
          "metadata": {}
        },
        {
          "output_type": "stream",
          "name": "stdout",
          "text": [
            "La mejor aproximación de certeza fue con  0.8 con k= 7\n"
          ]
        }
      ],
      "source": [
        "from sklearn.neighbors import KNeighborsClassifier\n",
        "from sklearn import metrics\n",
        "Ks = 10\n",
        "mean_acc = np.zeros((Ks-1))\n",
        "std_acc = np.zeros((Ks-1))\n",
        "ConfustionMx = [];\n",
        "for n in range(1,Ks):\n",
        "    \n",
        "    #Entrenar el Modelo y Predecir  \n",
        "    neigh = KNeighborsClassifier(n_neighbors = n).fit(X_train,y_train)\n",
        "    yhat=neigh.predict(X_test)\n",
        "    mean_acc[n-1] = metrics.accuracy_score(y_test, yhat)\n",
        "\n",
        "    \n",
        "    std_acc[n-1]=np.std(yhat==y_test)/np.sqrt(yhat.shape[0])\n",
        "\n",
        "mean_acc\n",
        "plt.plot(range(1,Ks),mean_acc,'g')\n",
        "plt.fill_between(range(1,Ks),mean_acc - 1 * std_acc,mean_acc + 1 * std_acc, alpha=0.10)\n",
        "plt.legend(('Certeza ', '+/- 3xstd'))\n",
        "plt.ylabel('Certeza ')\n",
        "plt.xlabel('Número de Vecinos (K)')\n",
        "plt.tight_layout()\n",
        "plt.show()\n",
        "\n",
        "print( \"La mejor aproximación de certeza fue con \", mean_acc.max(), \"con k=\", mean_acc.argmax()+1) "
      ]
    },
    {
      "cell_type": "code",
      "execution_count": 23,
      "metadata": {
        "colab": {
          "base_uri": "https://localhost:8080/"
        },
        "id": "0ZKgXEdcBdkd",
        "outputId": "e20ac1ed-262e-41a1-c414-158d6c9292c8"
      },
      "outputs": [
        {
          "output_type": "execute_result",
          "data": {
            "text/plain": [
              "array(['PAIDOFF', 'PAIDOFF', 'PAIDOFF', 'PAIDOFF', 'PAIDOFF'],\n",
              "      dtype=object)"
            ]
          },
          "metadata": {},
          "execution_count": 23
        }
      ],
      "source": [
        "k = 7\n",
        "#Entrenar el Modelo y Predecir  \n",
        "neigh = KNeighborsClassifier(n_neighbors = k).fit(X_train,y_train)\n",
        "yhat = neigh.predict(X_test)\n",
        "yhat[0:5]"
      ]
    },
    {
      "cell_type": "code",
      "execution_count": 24,
      "metadata": {
        "colab": {
          "base_uri": "https://localhost:8080/"
        },
        "id": "HzMIjjBsBdkd",
        "outputId": "7eecc5d2-afe7-4075-f366-5ef3da097774"
      },
      "outputs": [
        {
          "output_type": "stream",
          "name": "stdout",
          "text": [
            "Entrenar el set de Certeza:  0.8043478260869565\n",
            "Probar el set de Certeza:  0.8\n"
          ]
        }
      ],
      "source": [
        "#classification accuracy score computa la certeza del subconjunto. Esta función es igual a la función jaccard_similarity_score:\n",
        "\n",
        "from sklearn import metrics\n",
        "print(\"Entrenar el set de Certeza: \", metrics.accuracy_score(y_train, neigh.predict(X_train)))\n",
        "print(\"Probar el set de Certeza: \", metrics.accuracy_score(y_test, yhat))"
      ]
    },
    {
      "cell_type": "code",
      "source": [
        "from sklearn.metrics import f1_score\n",
        "f1_score(y_test, yhat, average='weighted')"
      ],
      "metadata": {
        "colab": {
          "base_uri": "https://localhost:8080/"
        },
        "id": "Q9-nncEPC7hl",
        "outputId": "4c396eee-2ddf-4e89-f901-249e1b14c4ba"
      },
      "execution_count": 25,
      "outputs": [
        {
          "output_type": "execute_result",
          "data": {
            "text/plain": [
              "0.8"
            ]
          },
          "metadata": {},
          "execution_count": 25
        }
      ]
    },
    {
      "cell_type": "code",
      "source": [
        "from sklearn.metrics import jaccard_score\n",
        "jaccard_score(y_test, yhat,pos_label =  'PAIDOFF')"
      ],
      "metadata": {
        "colab": {
          "base_uri": "https://localhost:8080/"
        },
        "id": "xUu7URHCDCiR",
        "outputId": "9573180c-edc8-485c-ebf9-8c4e4e09e60f"
      },
      "execution_count": 26,
      "outputs": [
        {
          "output_type": "execute_result",
          "data": {
            "text/plain": [
              "0.7741935483870968"
            ]
          },
          "metadata": {},
          "execution_count": 26
        }
      ]
    },
    {
      "cell_type": "markdown",
      "metadata": {
        "id": "937gKGDCBdkd"
      },
      "source": [
        "# Arbol de Decisión\n"
      ]
    },
    {
      "cell_type": "code",
      "execution_count": 27,
      "metadata": {
        "id": "QTYwqR05Bdke"
      },
      "outputs": [],
      "source": [
        "import numpy as np \n",
        "import pandas as pd\n",
        "from sklearn.tree import DecisionTreeClassifier"
      ]
    },
    {
      "cell_type": "code",
      "execution_count": 28,
      "metadata": {
        "colab": {
          "base_uri": "https://localhost:8080/"
        },
        "id": "t70p-sRFBdke",
        "outputId": "c179c1bf-e108-4405-9890-763c42062096"
      },
      "outputs": [
        {
          "output_type": "execute_result",
          "data": {
            "text/plain": [
              "array([0.78571429, 0.78571429, 0.61428571, 0.61428571, 0.64285714,\n",
              "       0.77142857, 0.75714286, 0.75714286, 0.65714286])"
            ]
          },
          "metadata": {},
          "execution_count": 28
        }
      ],
      "source": [
        "k=10\n",
        "mean_dec = np.zeros((k-1))\n",
        "\n",
        "for n in range(1,k):\n",
        "\n",
        "  drugTree = DecisionTreeClassifier(criterion=\"entropy\", max_depth =n)\n",
        "  drugTree.fit(X_train,y_train)\n",
        "  predTree = drugTree.predict(X_test)\n",
        "  mean_dec[n-1] = np.mean(predTree==y_test)\n",
        "mean_dec\n"
      ]
    },
    {
      "cell_type": "code",
      "source": [
        "plt.plot(range(1,k),mean_dec,'g')"
      ],
      "metadata": {
        "colab": {
          "base_uri": "https://localhost:8080/",
          "height": 448
        },
        "id": "M_rH_5IqfFfP",
        "outputId": "6869e3ed-2879-44ce-8471-df69dac3e777"
      },
      "execution_count": 29,
      "outputs": [
        {
          "output_type": "execute_result",
          "data": {
            "text/plain": [
              "[<matplotlib.lines.Line2D at 0x7fca11b77d30>]"
            ]
          },
          "metadata": {},
          "execution_count": 29
        },
        {
          "output_type": "display_data",
          "data": {
            "text/plain": [
              "<Figure size 640x480 with 1 Axes>"
            ],
            "image/png": "[encoded data removed]"
          },
          "metadata": {}
        }
      ]
    },
    {
      "cell_type": "code",
      "execution_count": 30,
      "metadata": {
        "colab": {
          "base_uri": "https://localhost:8080/"
        },
        "id": "UOnaUL7YBdke",
        "outputId": "56f0e786-5da0-453a-dbe8-329e70ac9fe5"
      },
      "outputs": [
        {
          "output_type": "stream",
          "name": "stdout",
          "text": [
            "La mejor precisión fué 0.7857142857142857\n",
            "\n",
            "              precision    recall  f1-score   support\n",
            "\n",
            "  COLLECTION       0.29      0.40      0.33        15\n",
            "     PAIDOFF       0.82      0.73      0.77        55\n",
            "\n",
            "    accuracy                           0.66        70\n",
            "   macro avg       0.55      0.56      0.55        70\n",
            "weighted avg       0.70      0.66      0.68        70\n",
            "\n"
          ]
        }
      ],
      "source": [
        "from sklearn.metrics import accuracy_score\n",
        "from sklearn.metrics import classification_report, confusion_matrix\n",
        "dec_acc = accuracy_score(y_test, predTree)\n",
        "print( \"La mejor precisión fué\", mean_dec.max())\n",
        "print()\n",
        "print(classification_report(y_test, predTree))"
      ]
    },
    {
      "cell_type": "code",
      "source": [
        "from sklearn.metrics import f1_score\n",
        "f1_score(y_test, yhat, average='weighted')"
      ],
      "metadata": {
        "colab": {
          "base_uri": "https://localhost:8080/"
        },
        "id": "KnBWB1O1D5ec",
        "outputId": "db53d532-ff9d-4687-865f-a7c7e6a7da26"
      },
      "execution_count": 31,
      "outputs": [
        {
          "output_type": "execute_result",
          "data": {
            "text/plain": [
              "0.8"
            ]
          },
          "metadata": {},
          "execution_count": 31
        }
      ]
    },
    {
      "cell_type": "code",
      "source": [
        "from sklearn.metrics import jaccard_score\n",
        "jaccard_score(y_test, yhat,pos_label = \"PAIDOFF\")"
      ],
      "metadata": {
        "colab": {
          "base_uri": "https://localhost:8080/"
        },
        "id": "e4bl4FriD9dD",
        "outputId": "9b77b88a-528b-436d-ee70-b4fbdc4ed13e"
      },
      "execution_count": 32,
      "outputs": [
        {
          "output_type": "execute_result",
          "data": {
            "text/plain": [
              "0.7741935483870968"
            ]
          },
          "metadata": {},
          "execution_count": 32
        }
      ]
    },
    {
      "cell_type": "markdown",
      "metadata": {
        "id": "5sQAY3JQBdkf"
      },
      "source": [
        "# Maquina de Soporte Vectorial (SVM)\n"
      ]
    },
    {
      "cell_type": "code",
      "execution_count": 33,
      "metadata": {
        "id": "tTrlDBDeBdkf"
      },
      "outputs": [],
      "source": [
        "import pylab as pl\n",
        "import scipy.optimize as opt\n",
        "from sklearn import svm"
      ]
    },
    {
      "cell_type": "code",
      "execution_count": 35,
      "metadata": {
        "colab": {
          "base_uri": "https://localhost:8080/"
        },
        "id": "Mz3JmtA-Bdkf",
        "outputId": "749f3a93-d45b-44ff-9f4b-0e95b86456e3"
      },
      "outputs": [
        {
          "output_type": "execute_result",
          "data": {
            "text/plain": [
              "array(['COLLECTION', 'PAIDOFF', 'PAIDOFF', 'PAIDOFF', 'PAIDOFF'],\n",
              "      dtype=object)"
            ]
          },
          "metadata": {},
          "execution_count": 35
        }
      ],
      "source": [
        "clf = svm.SVC(kernel='rbf')\n",
        "clf.fit(X_train, y_train)\n",
        "yhat = clf.predict(X_test)\n",
        "yhat [0:5]"
      ]
    },
    {
      "cell_type": "code",
      "execution_count": 36,
      "metadata": {
        "colab": {
          "base_uri": "https://localhost:8080/"
        },
        "id": "z7sAkLr3Bdkf",
        "outputId": "98938cd6-7015-4cb5-d613-7dab18d3d0c5"
      },
      "outputs": [
        {
          "output_type": "execute_result",
          "data": {
            "text/plain": [
              "0.7275882012724117"
            ]
          },
          "metadata": {},
          "execution_count": 36
        }
      ],
      "source": [
        "#f1_score de la librería sklearn:\n",
        "from sklearn.metrics import f1_score\n",
        "f1_score(y_test, yhat, average='weighted') "
      ]
    },
    {
      "cell_type": "code",
      "execution_count": 37,
      "metadata": {
        "colab": {
          "base_uri": "https://localhost:8080/"
        },
        "id": "uxHGP54hBdkf",
        "outputId": "b4b65704-13b0-41ea-bdb9-eeed4e148d85"
      },
      "outputs": [
        {
          "output_type": "stream",
          "name": "stdout",
          "text": [
            "0.18181818181818182\n",
            "0.7272727272727273\n"
          ]
        }
      ],
      "source": [
        " #Índice jaccard\n",
        "from sklearn.metrics import jaccard_score\n",
        "print(jaccard_score(y_test, yhat ,pos_label ='COLLECTION'))\n",
        "print(jaccard_score(y_test, yhat ,pos_label ='PAIDOFF'))"
      ]
    },
    {
      "cell_type": "markdown",
      "metadata": {
        "id": "xZRRHgLxBdkg"
      },
      "source": [
        "# Regresión Logística\n"
      ]
    },
    {
      "cell_type": "code",
      "execution_count": 38,
      "metadata": {
        "colab": {
          "base_uri": "https://localhost:8080/",
          "height": 74
        },
        "id": "qo6CL2qrBdkg",
        "outputId": "b494e091-cace-490f-9970-4e1ee48baafa"
      },
      "outputs": [
        {
          "output_type": "execute_result",
          "data": {
            "text/plain": [
              "LogisticRegression(C=0.01, solver='liblinear')"
            ],
            "text/html": [
              "<style>#sk-container-id-1 {color: black;background-color: white;}#sk-container-id-1 pre{padding: 0;}#sk-container-id-1 div.sk-toggleable {background-color: white;}#sk-container-id-1 label.sk-toggleable__label {cursor: pointer;display: block;width: 100%;margin-bottom: 0;padding: 0.3em;box-sizing: border-box;text-align: center;}#sk-container-id-1 label.sk-toggleable__label-arrow:before {content: \"▸\";float: left;margin-right: 0.25em;color: #696969;}#sk-container-id-1 label.sk-toggleable__label-arrow:hover:before {color: black;}#sk-container-id-1 div.sk-estimator:hover label.sk-toggleable__label-arrow:before {color: black;}#sk-container-id-1 div.sk-toggleable__content {max-height: 0;max-width: 0;overflow: hidden;text-align: left;background-color: #f0f8ff;}#sk-container-id-1 div.sk-toggleable__content pre {margin: 0.2em;color: black;border-radius: 0.25em;background-color: #f0f8ff;}#sk-container-id-1 input.sk-toggleable__control:checked~div.sk-toggleable__content {max-height: 200px;max-width: 100%;overflow: auto;}#sk-container-id-1 input.sk-toggleable__control:checked~label.sk-toggleable__label-arrow:before {content: \"▾\";}#sk-container-id-1 div.sk-estimator input.sk-toggleable__control:checked~label.sk-toggleable__label {background-color: #d4ebff;}#sk-container-id-1 div.sk-label input.sk-toggleable__control:checked~label.sk-toggleable__label {background-color: #d4ebff;}#sk-container-id-1 input.sk-hidden--visually {border: 0;clip: rect(1px 1px 1px 1px);clip: rect(1px, 1px, 1px, 1px);height: 1px;margin: -1px;overflow: hidden;padding: 0;position: absolute;width: 1px;}#sk-container-id-1 div.sk-estimator {font-family: monospace;background-color: #f0f8ff;border: 1px dotted black;border-radius: 0.25em;box-sizing: border-box;margin-bottom: 0.5em;}#sk-container-id-1 div.sk-estimator:hover {background-color: #d4ebff;}#sk-container-id-1 div.sk-parallel-item::after {content: \"\";width: 100%;border-bottom: 1px solid gray;flex-grow: 1;}#sk-container-id-1 div.sk-label:hover label.sk-toggleable__label {background-color: #d4ebff;}#sk-container-id-1 div.sk-serial::before {content: \"\";position: absolute;border-left: 1px solid gray;box-sizing: border-box;top: 0;bottom: 0;left: 50%;z-index: 0;}#sk-container-id-1 div.sk-serial {display: flex;flex-direction: column;align-items: center;background-color: white;padding-right: 0.2em;padding-left: 0.2em;position: relative;}#sk-container-id-1 div.sk-item {position: relative;z-index: 1;}#sk-container-id-1 div.sk-parallel {display: flex;align-items: stretch;justify-content: center;background-color: white;position: relative;}#sk-container-id-1 div.sk-item::before, #sk-container-id-1 div.sk-parallel-item::before {content: \"\";position: absolute;border-left: 1px solid gray;box-sizing: border-box;top: 0;bottom: 0;left: 50%;z-index: -1;}#sk-container-id-1 div.sk-parallel-item {display: flex;flex-direction: column;z-index: 1;position: relative;background-color: white;}#sk-container-id-1 div.sk-parallel-item:first-child::after {align-self: flex-end;width: 50%;}#sk-container-id-1 div.sk-parallel-item:last-child::after {align-self: flex-start;width: 50%;}#sk-container-id-1 div.sk-parallel-item:only-child::after {width: 0;}#sk-container-id-1 div.sk-dashed-wrapped {border: 1px dashed gray;margin: 0 0.4em 0.5em 0.4em;box-sizing: border-box;padding-bottom: 0.4em;background-color: white;}#sk-container-id-1 div.sk-label label {font-family: monospace;font-weight: bold;display: inline-block;line-height: 1.2em;}#sk-container-id-1 div.sk-label-container {text-align: center;}#sk-container-id-1 div.sk-container {/* jupyter's `normalize.less` sets `[hidden] { display: none; }` but bootstrap.min.css set `[hidden] { display: none !important; }` so we also need the `!important` here to be able to override the default hidden behavior on the sphinx rendered scikit-learn.org. See: https://github.com/scikit-learn/scikit-learn/issues/21755 */display: inline-block !important;position: relative;}#sk-container-id-1 div.sk-text-repr-fallback {display: none;}</style><div id=\"sk-container-id-1\" class=\"sk-top-container\"><div class=\"sk-text-repr-fallback\"><pre>LogisticRegression(C=0.01, solver=&#x27;liblinear&#x27;)</pre><b>In a Jupyter environment, please rerun this cell to show the HTML representation or trust the notebook. <br />On GitHub, the HTML representation is unable to render, please try loading this page with nbviewer.org.</b></div><div class=\"sk-container\" hidden><div class=\"sk-item\"><div class=\"sk-estimator sk-toggleable\"><input class=\"sk-toggleable__control sk-hidden--visually\" id=\"sk-estimator-id-1\" type=\"checkbox\" checked><label for=\"sk-estimator-id-1\" class=\"sk-toggleable__label sk-toggleable__label-arrow\">LogisticRegression</label><div class=\"sk-toggleable__content\"><pre>LogisticRegression(C=0.01, solver=&#x27;liblinear&#x27;)</pre></div></div></div></div></div>"
            ]
          },
          "metadata": {},
          "execution_count": 38
        }
      ],
      "source": [
        "from sklearn.linear_model import LogisticRegression\n",
        "from sklearn.metrics import confusion_matrix\n",
        "LR = LogisticRegression(C=0.01, solver='liblinear').fit(X_train,y_train)\n",
        "LR"
      ]
    },
    {
      "cell_type": "code",
      "execution_count": 41,
      "metadata": {
        "id": "NwpmqonjBdkg"
      },
      "outputs": [],
      "source": [
        "yhat = LR.predict(X_test)\n"
      ]
    },
    {
      "cell_type": "code",
      "execution_count": 43,
      "metadata": {
        "id": "PuYtjhIoBdkg"
      },
      "outputs": [],
      "source": [
        "yhat_prob = LR.predict_proba(X_test)\n"
      ]
    },
    {
      "cell_type": "code",
      "execution_count": 44,
      "metadata": {
        "colab": {
          "base_uri": "https://localhost:8080/"
        },
        "id": "hEws_iz5Bdkh",
        "outputId": "3784a7c2-19f2-4a7e-9dfd-e9c81530e8af"
      },
      "outputs": [
        {
          "output_type": "execute_result",
          "data": {
            "text/plain": [
              "0.6670522459996144"
            ]
          },
          "metadata": {},
          "execution_count": 44
        }
      ],
      "source": [
        "from sklearn.metrics import f1_score\n",
        "f1_score(y_test, yhat, average='weighted') "
      ]
    },
    {
      "cell_type": "code",
      "source": [
        "from sklearn.metrics import jaccard_score\n",
        "jaccard_score(y_test, yhat,pos_label = \"PAIDOFF\")"
      ],
      "metadata": {
        "colab": {
          "base_uri": "https://localhost:8080/"
        },
        "id": "0I--l1gyHznO",
        "outputId": "c3f8cf54-6127-4a57-c26d-1a0fea762480"
      },
      "execution_count": 45,
      "outputs": [
        {
          "output_type": "execute_result",
          "data": {
            "text/plain": [
              "0.6764705882352942"
            ]
          },
          "metadata": {},
          "execution_count": 45
        }
      ]
    },
    {
      "cell_type": "code",
      "source": [
        "from sklearn.metrics import log_loss\n",
        "log_loss(y_test, yhat_prob)"
      ],
      "metadata": {
        "colab": {
          "base_uri": "https://localhost:8080/"
        },
        "id": "cvmM6MBVPEIk",
        "outputId": "292b7026-3f05-48be-cb72-062d8a8bb397"
      },
      "execution_count": 46,
      "outputs": [
        {
          "output_type": "execute_result",
          "data": {
            "text/plain": [
              "0.5772287609479654"
            ]
          },
          "metadata": {},
          "execution_count": 46
        }
      ]
    },
    {
      "cell_type": "markdown",
      "metadata": {
        "id": "zU0owvTQBdki"
      },
      "source": [
        "# Evaluación del Modelo con el Conjunto de Prueba\n"
      ]
    },
    {
      "cell_type": "code",
      "execution_count": 47,
      "metadata": {
        "id": "Bp4bAFW1Bdki"
      },
      "outputs": [],
      "source": [
        "from sklearn.metrics import jaccard_score\n",
        "from sklearn.metrics import f1_score\n",
        "from sklearn.metrics import log_loss"
      ]
    },
    {
      "cell_type": "markdown",
      "metadata": {
        "id": "utwraYaZBdki"
      },
      "source": [
        "Primero descarge y carge el conjunto de pruebas:\n"
      ]
    },
    {
      "cell_type": "code",
      "execution_count": 48,
      "metadata": {
        "colab": {
          "base_uri": "https://localhost:8080/"
        },
        "id": "6YboG34FBdki",
        "outputId": "1fcafdff-75ea-46e4-fe31-80876c7b1dce"
      },
      "outputs": [
        {
          "output_type": "stream",
          "name": "stdout",
          "text": [
            "--2023-05-21 22:46:29--  https://s3-api.us-geo.objectstorage.softlayer.net/cf-courses-data/CognitiveClass/ML0101ENv3/labs/loan_test.csv\n",
            "Resolving s3-api.us-geo.objectstorage.softlayer.net (s3-api.us-geo.objectstorage.softlayer.net)... 67.228.254.196\n",
            "Connecting to s3-api.us-geo.objectstorage.softlayer.net (s3-api.us-geo.objectstorage.softlayer.net)|67.228.254.196|:443... connected.\n",
            "HTTP request sent, awaiting response... 200 OK\n",
            "Length: 3642 (3.6K) [text/csv]\n",
            "Saving to: ‘loan_test.csv’\n",
            "\n",
            "loan_test.csv       100%[===================>]   3.56K  --.-KB/s    in 0s      \n",
            "\n",
            "2023-05-21 22:46:29 (1008 MB/s) - ‘loan_test.csv’ saved [3642/3642]\n",
            "\n"
          ]
        }
      ],
      "source": [
        "!wget -O loan_test.csv https://s3-api.us-geo.objectstorage.softlayer.net/cf-courses-data/CognitiveClass/ML0101ENv3/labs/loan_test.csv"
      ]
    },
    {
      "cell_type": "markdown",
      "metadata": {
        "button": false,
        "new_sheet": false,
        "run_control": {
          "read_only": false
        },
        "id": "BGAxqY17Bdkj"
      },
      "source": [
        "### Cargar el conjunto de prueba para la evaluación\n"
      ]
    },
    {
      "cell_type": "code",
      "execution_count": 49,
      "metadata": {
        "button": false,
        "collapsed": true,
        "new_sheet": false,
        "run_control": {
          "read_only": false
        },
        "colab": {
          "base_uri": "https://localhost:8080/",
          "height": 206
        },
        "id": "KD0QWwtjBdkj",
        "outputId": "34fbfcbc-0263-4b5f-8ad1-8a46ae553f1b"
      },
      "outputs": [
        {
          "output_type": "execute_result",
          "data": {
            "text/plain": [
              "   Unnamed: 0.1  Unnamed: 0 loan_status  Principal  terms effective_date  \\\n",
              "0             1           1     PAIDOFF       1000     30       9/8/2016   \n",
              "1             5           5     PAIDOFF        300      7       9/9/2016   \n",
              "2            21          21     PAIDOFF       1000     30      9/10/2016   \n",
              "3            24          24     PAIDOFF       1000     30      9/10/2016   \n",
              "4            35          35     PAIDOFF        800     15      9/11/2016   \n",
              "\n",
              "    due_date  age             education  Gender  \n",
              "0  10/7/2016   50              Bechalor  female  \n",
              "1  9/15/2016   35       Master or Above    male  \n",
              "2  10/9/2016   43  High School or Below  female  \n",
              "3  10/9/2016   26               college    male  \n",
              "4  9/25/2016   29              Bechalor    male  "
            ],
            "text/html": [
              "\n",
              "  <div id=\"df-a1e64bed-6a9d-4905-babe-547ed5898d94\">\n",
              "    <div class=\"colab-df-container\">\n",
              "      <div>\n",
              "<style scoped>\n",
              "    .dataframe tbody tr th:only-of-type {\n",
              "        vertical-align: middle;\n",
              "    }\n",
              "\n",
              "    .dataframe tbody tr th {\n",
              "        vertical-align: top;\n",
              "    }\n",
              "\n",
              "    .dataframe thead th {\n",
              "        text-align: right;\n",
              "    }\n",
              "</style>\n",
              "<table border=\"1\" class=\"dataframe\">\n",
              "  <thead>\n",
              "    <tr style=\"text-align: right;\">\n",
              "      <th></th>\n",
              "      <th>Unnamed: 0.1</th>\n",
              "      <th>Unnamed: 0</th>\n",
              "      <th>loan_status</th>\n",
              "      <th>Principal</th>\n",
              "      <th>terms</th>\n",
              "      <th>effective_date</th>\n",
              "      <th>due_date</th>\n",
              "      <th>age</th>\n",
              "      <th>education</th>\n",
              "      <th>Gender</th>\n",
              "    </tr>\n",
              "  </thead>\n",
              "  <tbody>\n",
              "    <tr>\n",
              "      <th>0</th>\n",
              "      <td>1</td>\n",
              "      <td>1</td>\n",
              "      <td>PAIDOFF</td>\n",
              "      <td>1000</td>\n",
              "      <td>30</td>\n",
              "      <td>9/8/2016</td>\n",
              "      <td>10/7/2016</td>\n",
              "      <td>50</td>\n",
              "      <td>Bechalor</td>\n",
              "      <td>female</td>\n",
              "    </tr>\n",
              "    <tr>\n",
              "      <th>1</th>\n",
              "      <td>5</td>\n",
              "      <td>5</td>\n",
              "      <td>PAIDOFF</td>\n",
              "      <td>300</td>\n",
              "      <td>7</td>\n",
              "      <td>9/9/2016</td>\n",
              "      <td>9/15/2016</td>\n",
              "      <td>35</td>\n",
              "      <td>Master or Above</td>\n",
              "      <td>male</td>\n",
              "    </tr>\n",
              "    <tr>\n",
              "      <th>2</th>\n",
              "      <td>21</td>\n",
              "      <td>21</td>\n",
              "      <td>PAIDOFF</td>\n",
              "      <td>1000</td>\n",
              "      <td>30</td>\n",
              "      <td>9/10/2016</td>\n",
              "      <td>10/9/2016</td>\n",
              "      <td>43</td>\n",
              "      <td>High School or Below</td>\n",
              "      <td>female</td>\n",
              "    </tr>\n",
              "    <tr>\n",
              "      <th>3</th>\n",
              "      <td>24</td>\n",
              "      <td>24</td>\n",
              "      <td>PAIDOFF</td>\n",
              "      <td>1000</td>\n",
              "      <td>30</td>\n",
              "      <td>9/10/2016</td>\n",
              "      <td>10/9/2016</td>\n",
              "      <td>26</td>\n",
              "      <td>college</td>\n",
              "      <td>male</td>\n",
              "    </tr>\n",
              "    <tr>\n",
              "      <th>4</th>\n",
              "      <td>35</td>\n",
              "      <td>35</td>\n",
              "      <td>PAIDOFF</td>\n",
              "      <td>800</td>\n",
              "      <td>15</td>\n",
              "      <td>9/11/2016</td>\n",
              "      <td>9/25/2016</td>\n",
              "      <td>29</td>\n",
              "      <td>Bechalor</td>\n",
              "      <td>male</td>\n",
              "    </tr>\n",
              "  </tbody>\n",
              "</table>\n",
              "</div>\n",
              "      <button class=\"colab-df-convert\" onclick=\"convertToInteractive('df-a1e64bed-6a9d-4905-babe-547ed5898d94')\"\n",
              "              title=\"Convert this dataframe to an interactive table.\"\n",
              "              style=\"display:none;\">\n",
              "        \n",
              "  <svg xmlns=\"http://www.w3.org/2000/svg\" height=\"24px\"viewBox=\"0 0 24 24\"\n",
              "       width=\"24px\">\n",
              "    <path d=\"M0 0h24v24H0V0z\" fill=\"none\"/>\n",
              "    <path d=\"M18.56 5.44l.94 2.06.94-2.06 2.06-.94-2.06-.94-.94-2.06-.94 2.06-2.06.94zm-11 1L8.5 8.5l.94-2.06 2.06-.94-2.06-.94L8.5 2.5l-.94 2.06-2.06.94zm10 10l.94 2.06.94-2.06 2.06-.94-2.06-.94-.94-2.06-.94 2.06-2.06.94z\"/><path d=\"M17.41 7.96l-1.37-1.37c-.4-.4-.92-.59-1.43-.59-.52 0-1.04.2-1.43.59L10.3 9.45l-7.72 7.72c-.78.78-.78 2.05 0 2.83L4 21.41c.39.39.9.59 1.41.59.51 0 1.02-.2 1.41-.59l7.78-7.78 2.81-2.81c.8-.78.8-2.07 0-2.86zM5.41 20L4 18.59l7.72-7.72 1.47 1.35L5.41 20z\"/>\n",
              "  </svg>\n",
              "      </button>\n",
              "      \n",
              "  <style>\n",
              "    .colab-df-container {\n",
              "      display:flex;\n",
              "      flex-wrap:wrap;\n",
              "      gap: 12px;\n",
              "    }\n",
              "\n",
              "    .colab-df-convert {\n",
              "      background-color: #E8F0FE;\n",
              "      border: none;\n",
              "      border-radius: 50%;\n",
              "      cursor: pointer;\n",
              "      display: none;\n",
              "      fill: #1967D2;\n",
              "      height: 32px;\n",
              "      padding: 0 0 0 0;\n",
              "      width: 32px;\n",
              "    }\n",
              "\n",
              "    .colab-df-convert:hover {\n",
              "      background-color: #E2EBFA;\n",
              "      box-shadow: 0px 1px 2px rgba(60, 64, 67, 0.3), 0px 1px 3px 1px rgba(60, 64, 67, 0.15);\n",
              "      fill: #174EA6;\n",
              "    }\n",
              "\n",
              "    [theme=dark] .colab-df-convert {\n",
              "      background-color: #3B4455;\n",
              "      fill: #D2E3FC;\n",
              "    }\n",
              "\n",
              "    [theme=dark] .colab-df-convert:hover {\n",
              "      background-color: #434B5C;\n",
              "      box-shadow: 0px 1px 3px 1px rgba(0, 0, 0, 0.15);\n",
              "      filter: drop-shadow(0px 1px 2px rgba(0, 0, 0, 0.3));\n",
              "      fill: #FFFFFF;\n",
              "    }\n",
              "  </style>\n",
              "\n",
              "      <script>\n",
              "        const buttonEl =\n",
              "          document.querySelector('#df-a1e64bed-6a9d-4905-babe-547ed5898d94 button.colab-df-convert');\n",
              "        buttonEl.style.display =\n",
              "          google.colab.kernel.accessAllowed ? 'block' : 'none';\n",
              "\n",
              "        async function convertToInteractive(key) {\n",
              "          const element = document.querySelector('#df-a1e64bed-6a9d-4905-babe-547ed5898d94');\n",
              "          const dataTable =\n",
              "            await google.colab.kernel.invokeFunction('convertToInteractive',\n",
              "                                                     [key], {});\n",
              "          if (!dataTable) return;\n",
              "\n",
              "          const docLinkHtml = 'Like what you see? Visit the ' +\n",
              "            '<a target=\"_blank\" href=https://colab.research.google.com/notebooks/data_table.ipynb>data table notebook</a>'\n",
              "            + ' to learn more about interactive tables.';\n",
              "          element.innerHTML = '';\n",
              "          dataTable['output_type'] = 'display_data';\n",
              "          await google.colab.output.renderOutput(dataTable, element);\n",
              "          const docLink = document.createElement('div');\n",
              "          docLink.innerHTML = docLinkHtml;\n",
              "          element.appendChild(docLink);\n",
              "        }\n",
              "      </script>\n",
              "    </div>\n",
              "  </div>\n",
              "  "
            ]
          },
          "metadata": {},
          "execution_count": 49
        }
      ],
      "source": [
        "test_df = pd.read_csv('loan_test.csv')\n",
        "test_df.head()"
      ]
    },
    {
      "cell_type": "code",
      "execution_count": 50,
      "metadata": {
        "id": "424kK0ELBdkj"
      },
      "outputs": [],
      "source": [
        "test_df = pd.read_csv('loan_test.csv')\n",
        "#Cambiar el formato de fecha\n",
        "test_df['due_date'] = pd.to_datetime(test_df['due_date'])\n",
        "test_df['effective_date'] = pd.to_datetime(test_df['effective_date'])\n",
        "#Agregar una columna que especifica si es fin de semana  o no\n",
        "test_df['dayofweek'] = test_df['effective_date'].dt.dayofweek\n",
        "test_df['weekend'] = test_df['dayofweek'].apply(lambda x: 1 if (x>3)  else 0)\n",
        "# Convertir genero en valores binarios\n",
        "test_df['Gender'].replace(to_replace=['male','female'], value=[0,1],inplace=True)\n",
        "# Crear un Dataframe 'Featuretest' con las variables independientes y concatenar con la columna 'education' codificada en oneHot-encoding.\n",
        "Featuretest = test_df[['Principal','terms','age','Gender','weekend']]\n",
        "Featuretest = pd.concat([Featuretest,pd.get_dummies(test_df['education'])], axis=1)\n",
        "#De la columna 'education' codificada en oneHot-encoding eliminamos'Master or Above'\n",
        "Featuretest.drop(['Master or Above'], axis = 1,inplace=True)\n",
        "Featuretest.head()\n",
        "\n",
        "#Definamos los conjuntos de características, X_test(Variable(s) dependiente(s) ):\n",
        "XT = Featuretest\n",
        "#Definamos la variable objetivo 'y'dependiente:\n",
        "yT = test_df['loan_status'].values\n",
        "\n",
        "#Normalizamos los datos\n",
        "XT= preprocessing.StandardScaler().fit(XT).transform(XT)\n",
        "#test_df.head()"
      ]
    },
    {
      "cell_type": "code",
      "execution_count": 55,
      "metadata": {
        "colab": {
          "base_uri": "https://localhost:8080/"
        },
        "id": "IGL5g3kpBdkj",
        "outputId": "2c0b60c9-d286-4d96-e8b8-f541d45e9e4b"
      },
      "outputs": [
        {
          "output_type": "stream",
          "name": "stdout",
          "text": [
            "f1_score: 0.6602254428341383\n",
            "jaccard: 0.6666666666666666\n"
          ]
        }
      ],
      "source": [
        "#K Nearest Neighbor(KNN)\n",
        "yhat = neigh.predict(XT)\n",
        "yhat[0:5]\n",
        "from sklearn.metrics import f1_score\n",
        "print('f1_score:',f1_score(yT, yhat, average='weighted'))\n",
        "from sklearn.metrics import jaccard_score\n",
        "print('jaccard:',jaccard_score(yT, yhat,pos_label =  'PAIDOFF'))"
      ]
    },
    {
      "cell_type": "code",
      "execution_count": 56,
      "metadata": {
        "colab": {
          "base_uri": "https://localhost:8080/"
        },
        "id": "Bh1Hxx0bBdkj",
        "outputId": "269e55e6-9888-4dd1-b5d2-c7d56c55fcc1"
      },
      "outputs": [
        {
          "output_type": "stream",
          "name": "stdout",
          "text": [
            "f1_score: 0.6602254428341383\n",
            "jaccard: 0.6666666666666666\n"
          ]
        }
      ],
      "source": [
        "#Arbol de Decisión\n",
        "predTree = drugTree.predict(XT)\n",
        "from sklearn.metrics import f1_score\n",
        "print('f1_score:',f1_score(yT, yhat, average='weighted'))\n",
        "from sklearn.metrics import jaccard_score\n",
        "print('jaccard:',jaccard_score(yT, yhat,pos_label =  'PAIDOFF'))"
      ]
    },
    {
      "cell_type": "code",
      "source": [
        "#Maquina de Soporte Vectorial (SVM)\n",
        "yhat = clf.predict(XT)\n",
        "from sklearn.metrics import f1_score\n",
        "print('f1_score:',f1_score(yT, yhat, average='weighted'))\n",
        "from sklearn.metrics import jaccard_score\n",
        "print('jaccard:',jaccard_score(yT, yhat,pos_label =  'PAIDOFF'))"
      ],
      "metadata": {
        "colab": {
          "base_uri": "https://localhost:8080/"
        },
        "id": "U5jZnEEhaaku",
        "outputId": "10cdc036-7a9a-4f50-dac5-666800d08ae7"
      },
      "execution_count": 57,
      "outputs": [
        {
          "output_type": "stream",
          "name": "stdout",
          "text": [
            "f1_score: 0.7583503077293734\n",
            "jaccard: 0.78\n"
          ]
        }
      ]
    },
    {
      "cell_type": "code",
      "source": [
        "#Regresión Logística\n",
        "yhat = LR.predict(XT)\n",
        "from sklearn.metrics import f1_score\n",
        "print('f1_score:',f1_score(yT, yhat, average='weighted'))\n",
        "from sklearn.metrics import jaccard_score\n",
        "print('jaccard:',jaccard_score(yT, yhat,pos_label =  'PAIDOFF'))\n",
        "from sklearn.metrics import log_loss\n",
        "yhat_prob2 = LR.predict_proba(XT)\n",
        "print('log_loss:',log_loss(yT, yhat_prob2))"
      ],
      "metadata": {
        "colab": {
          "base_uri": "https://localhost:8080/"
        },
        "id": "rdqlcIygag1_",
        "outputId": "e97559f7-824a-4b25-a5ab-a30a9923ca58"
      },
      "execution_count": 58,
      "outputs": [
        {
          "output_type": "stream",
          "name": "stdout",
          "text": [
            "f1_score: 0.6604267310789049\n",
            "jaccard: 0.7358490566037735\n",
            "log_loss: 0.5672153379912981\n"
          ]
        }
      ]
    },
    {
      "cell_type": "markdown",
      "metadata": {
        "id": "JJUlZfmqBdkj"
      },
      "source": [
        "# Reporte\n",
        "\n",
        "Deberá reportar la precisión del modelo utilizando distintas métricas de evaluación:\n"
      ]
    },
    {
      "cell_type": "markdown",
      "metadata": {
        "id": "nZoq5zACBdkj"
      },
      "source": [
        "| Algoritmo           | Jaccard | F1     | LogLoss |\n",
        "| ------------------- | ------- | --     | ------- |\n",
        "| KNN                 |0.666     |0.660      | NA      |\n",
        "| Arbol de Decisión   |0.666     |0.660      | NA      |\n",
        "| SVM                 |0.78      |0.758      | NA      |\n",
        "| Regresión Logística |0.735     |0.660      | 0.567   |\n"
      ]
    },
    {
      "cell_type": "markdown",
      "metadata": {
        "button": false,
        "new_sheet": false,
        "run_control": {
          "read_only": false
        },
        "id": "4OHPCsygBdkj"
      },
      "source": [
        "<h2>¿Quiere aprender mas?</h2>\n",
        "\n",
        "IBM SPSS Modeler es una plataforma para el análisis que contiene muchos algoritmos de aprendizaje automático (machine learning). Ha sido diseñado con el fin de ofrecer predicciones inteligentes a las decisiones hechas por personas, grupos, sistemas - con la compañia como un todo. Una prueba gratuita esta disponible a traves de este curso desde aqui: <a href=\"http://cocl.us/ML0101EN-SPSSModeler?utm_medium=Exinfluencer&utm_source=Exinfluencer&utm_content=000026UJ&utm_term=10006555&utm_id=NA-SkillsNetwork-Channel-SkillsNetworkCoursesIBMDeveloperSkillsNetworkML0101ESedX20816812-2022-01-01\">SPSS Modeler</a>\n",
        "\n",
        "Además, puede utilizar Watson Studio para ejecutar estos cuardernos mas rápido y con conjuntos de datos mas grandes. Watson Studio es la solución líder de IBM en la nube para científicos de datos, contruido por científicos de datos. Con los cuadernos de Jupyter, RStudio, Apache Spark y librerías pre instaladas en la nube, Watson Studio permite a los científicos de datos colaborar en sus proyectos sin necesidad de instalar nada. Unase a la gran comunidad de usuarios de Watson Studio hoy con un cuenta gratuita en <a href=\"https://cloud.ibm.com/registration/trial?utm_medium=Exinfluencer&utm_source=Exinfluencer&utm_content=000026UJ&utm_term=10006555&utm_id=NA-SkillsNetwork-Channel-SkillsNetworkCoursesIBMDeveloperSkillsNetworkML0101ESedX20816812-2022-01-01\">Watson Studio</a>\n",
        "\n",
        "<h3>Gracias por terminar esta lección</h3>\n",
        "\n",
        "<h4>Autor:  <a href=\"https://ca.linkedin.com/in/saeedaghabozorgi?utm_medium=Exinfluencer&utm_source=Exinfluencer&utm_content=000026UJ&utm_term=10006555&utm_id=NA-SkillsNetwork-Channel-SkillsNetworkCoursesIBMDeveloperSkillsNetworkML0101ESedX20816812-2022-01-01?utm_medium=Exinfluencer&utm_source=Exinfluencer&utm_content=000026UJ&utm_term=10006555&utm_id=NA-SkillsNetwork-Channel-SkillsNetworkCoursesIBMDeveloperSkillsNetworkML0101ESedX20816812-2022-01-01\">Saeed Aghabozorgi</a></h4>\n",
        "<p><a href=\"https://ca.linkedin.com/in/saeedaghabozorgi\">Saeed Aghabozorgi</a>, PhD es un Científico de Datos para IBM con una trayectoria de desarrollo de aplicaciones a nivel empresarial que han ayudado a mejorar la habilidad de transformar información en conocimiento practico. Es un investigador en el campo de la minería de datos y experto en el desarrollo de métodos analíticos avanzados como son el aprendizaje automático y el modelado estadístico de grandes conjuntos de datos.</p>\n",
        "\n",
        "<hr>\n",
        "\n",
        "<p>Copyright &copy; 2018 <a href=\"https://cocl.us/DX0108EN_CC?utm_medium=Exinfluencer&utm_source=Exinfluencer&utm_content=000026UJ&utm_term=10006555&utm_id=NA-SkillsNetwork-Channel-SkillsNetworkCoursesIBMDeveloperSkillsNetworkML0101ESedX20816812-2022-01-01\">Cognitive Class</a>. This notebook and its source code are released under the terms of the <a href=\"https://bigdatauniversity.com/mit-license/?utm_medium=Exinfluencer&utm_source=Exinfluencer&utm_content=000026UJ&utm_term=10006555&utm_id=NA-SkillsNetwork-Channel-SkillsNetworkCoursesIBMDeveloperSkillsNetworkML0101ESedX20816812-2022-01-01\">MIT License</a>.</p>\n"
      ]
    },
    {
      "cell_type": "code",
      "execution_count": null,
      "metadata": {
        "id": "t1QJBxGoBdkk"
      },
      "outputs": [],
      "source": []
    }
  ],
  "metadata": {
    "kernelspec": {
      "display_name": "Python 3.10",
      "language": "python",
      "name": "python3"
    },
    "language_info": {
      "codemirror_mode": {
        "name": "ipython",
        "version": 3
      },
      "file_extension": ".py",
      "mimetype": "text/x-python",
      "name": "python",
      "nbconvert_exporter": "python",
      "pygments_lexer": "ipython3",
      "version": "3.10.9"
    },
    "colab": {
      "provenance": []
    }
  },
  "nbformat": 4,
  "nbformat_minor": 0
}